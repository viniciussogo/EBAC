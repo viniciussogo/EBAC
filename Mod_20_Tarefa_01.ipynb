{
 "cells": [
  {
   "cell_type": "markdown",
   "id": "45114244-c72b-46d0-b912-0711fbea1f76",
   "metadata": {},
   "source": [
    "# <span style=\"color:blue\"> Fórmula de Bhaskara </span>\n",
    "Este texto está em vermelho.\n",
    "A solução para uma função de segundo grau depende das suas raízes (valores de x).  \n",
    "Como já vimos, os coeficientes precisam ser números reais e o angular diferente de zero.  \n",
    "Sendo assim, temos a seguinte fórmula de Bhaskara:\n",
    "\n",
    "$$\n",
    "x = \\frac{-b \\pm \\sqrt{b^2 - 4ac}}{2a}\n",
    "$$\n",
    "\n",
    "*<center>Fórmula de Bhaskara.</center>*\n",
    "\n",
    "Para melhor compreensão, o seu cálculo é dividido em duas partes: **discriminante da equação** e **operações para determinar as raízes**.\n",
    "\n",
    "## Discriminante\n",
    "\n",
    "A figura dentro da raiz na fórmula de Bhaskara é nomeada de **discriminante**.  \n",
    "Seu símbolo é a letra grega delta e apresenta a seguinte fórmula:\n",
    "\n",
    "$$\n",
    "\\Delta = b^2 - 4ac\n",
    "$$\n",
    "\n",
    "*<center>Fórmula do discriminante.</center>*\n",
    "\n",
    "- Se o delta for **maior que zero**, a equação terá **dois valores reais e distintos**.  \n",
    "- Se o delta for **igual a zero**, a equação terá **somente um valor real** ou **dois resultados iguais**.  \n",
    "- Se o delta for **menor que zero**, a equação **não possuirá valores reais**.\n"
   ]
  },
  {
   "cell_type": "code",
   "execution_count": null,
   "id": "d338bd3b-60d9-4989-82e1-ab9f89189f31",
   "metadata": {},
   "outputs": [],
   "source": []
  }
 ],
 "metadata": {
  "kernelspec": {
   "display_name": "Python 3 (ipykernel)",
   "language": "python",
   "name": "python3"
  },
  "language_info": {
   "codemirror_mode": {
    "name": "ipython",
    "version": 3
   },
   "file_extension": ".py",
   "mimetype": "text/x-python",
   "name": "python",
   "nbconvert_exporter": "python",
   "pygments_lexer": "ipython3",
   "version": "3.12.7"
  }
 },
 "nbformat": 4,
 "nbformat_minor": 5
}
