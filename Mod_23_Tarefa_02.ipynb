{
 "cells": [
  {
   "cell_type": "markdown",
   "id": "1fec5fe9-2838-4722-bfe0-86925d1eb577",
   "metadata": {},
   "source": [
    "# <center> Random Forest </center>\n",
    "\n",
    "**1.Coletar os dados:**   \n",
    " Você começa com uma base de dados com várias informações.\n",
    "\n",
    "**2.Criar várias amostras dos dados com reposição (bootstrap):**  \n",
    " O algoritmo cria várias subamostras aleatórias, com repetição.\n",
    "\n",
    "**3.Treinar uma árvore de decisão em cada amostra:**  \n",
    "Cada amostra gera uma árvore diferente. Mas tem um detalhe importante:\n",
    "\n",
    "* Em cada divisão da árvore, o algoritmo escolhe apenas um subconjunto aleatório de variáveis (isso é o \"random\" da floresta!).\n",
    "\n",
    "**4.Repetir isso para várias árvores:**  \n",
    "O número de árvores é definido por você.\n",
    "\n",
    "**5.Fazer a previsão com todas as árvores:**  \n",
    "\n",
    "Para classificação: cada árvore “vota” em uma resposta e a maioria vence.\n",
    "Para regressão: o algoritmo faz a média de todas as previsões das árvores."
   ]
  },
  {
   "cell_type": "markdown",
   "id": "db271a62-94e9-4482-9847-da9869a87a5a",
   "metadata": {},
   "source": [
    "## Resumindo:  \n",
    "O Random Forest é como um grupo de especialistas (as árvores de decisão) que trabalham em equipe para tomar decisões melhores.\n",
    "\n",
    "Se você perguntasse a uma única pessoa (uma árvore), talvez ela tivesse um palpite ruim. Mas se você perguntar a um grupo de pessoas diferentes, cada uma com uma experiência diferente (dados diferentes e variáveis diferentes), e fizer uma votação, é bem mais provável que a decisão coletiva seja boa."
   ]
  },
  {
   "cell_type": "markdown",
   "id": "9215464b-8487-4907-8dcc-8d9bf88340da",
   "metadata": {},
   "source": [
    "## RF vs Bagging\n",
    "\n",
    "A grande diferença entre Random Forest e Bagging está no método de uso da variáveis, onde Bagging usa todas as variáveis disponíveis, enquanto no RF usa-se conjuntos escolhidos aleatoriamente para cada árvore de decisão."
   ]
  },
  {
   "cell_type": "code",
   "execution_count": null,
   "id": "c56abaad-f82f-4321-9b1a-bd1ede9e117e",
   "metadata": {},
   "outputs": [],
   "source": []
  }
 ],
 "metadata": {
  "kernelspec": {
   "display_name": "Python 3 (ipykernel)",
   "language": "python",
   "name": "python3"
  },
  "language_info": {
   "codemirror_mode": {
    "name": "ipython",
    "version": 3
   },
   "file_extension": ".py",
   "mimetype": "text/x-python",
   "name": "python",
   "nbconvert_exporter": "python",
   "pygments_lexer": "ipython3",
   "version": "3.12.7"
  }
 },
 "nbformat": 4,
 "nbformat_minor": 5
}
