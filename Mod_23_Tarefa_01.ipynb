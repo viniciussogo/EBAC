{
 "cells": [
  {
   "cell_type": "markdown",
   "id": "43137e73-1c36-434c-8671-501817fe10db",
   "metadata": {},
   "source": [
    "# <center> SATISFAÇÃO DE FRUTAS </center>"
   ]
  },
  {
   "cell_type": "markdown",
   "id": "8ac74591-29dd-4ae9-817e-3119d9c46829",
   "metadata": {},
   "source": [
    "    Suponhamos que um mercado esteja querendo saber a satisfação dos clientes com as frutas que são vendidas no horti fruti. Coloca-se uma caizinha para que  alguns clientes, experiementem uma fruta e dê uma nota. Naquele dia tiveram apenas 5 notas, e o dono com muita pressa gostaria de saber hoje a média, então  entra o Bootstrap.  \n",
    "    \n",
    "    Ele pegou essas 5 notas, e sorteou 5 vezes, sempre recolocando a nota que foi tirada para que elas sempre tivessem as mesmas chances de sair! ele repetiu isso umas 100 vezes, ficando com 100 grupos de 5 notas. A partir disso se tira a média de cada grupo com 5 , tendo então entre elas a menor média e a maior média, sendo assim seu intervalo de confiança. Depois se tira a média dessas médias, para se ter uma média final!\n",
    "    "
   ]
  },
  {
   "cell_type": "code",
   "execution_count": 3,
   "id": "c42fedd3-3f0c-4e0f-b00b-d65c2d2fcb41",
   "metadata": {},
   "outputs": [
    {
     "name": "stdout",
     "output_type": "stream",
     "text": [
      "Média original dos dados: 8.00\n",
      "Média estimada pelo bootstrap: 7.97\n",
      "Intervalo de confiança (95%): [6.8 9. ]\n"
     ]
    }
   ],
   "source": [
    "import random\n",
    "import numpy as np\n",
    "\n",
    "notas_sucos = [8, 7, 9, 6, 10]\n",
    "\n",
    "num_amostras = 100\n",
    "tamanho_amostra = len(notas_sucos)\n",
    "medias_amostrais = [] \n",
    "\n",
    "for _ in range(num_amostras):\n",
    "    amostra = random.choices(notas_sucos, k=tamanho_amostra)  \n",
    "    \n",
    "    media_amostra = np.mean(amostra)\n",
    "    medias_amostrais.append(media_amostra)\n",
    "\n",
    "\n",
    "media_final = np.mean(medias_amostrais)\n",
    "intervalo_confianca = np.percentile(medias_amostrais, [2.5, 97.5])\n",
    "\n",
    "\n",
    "print(f\"Média original dos dados: {np.mean(notas_sucos):.2f}\")\n",
    "print(f\"Média estimada pelo bootstrap: {media_final:.2f}\")\n",
    "print(f\"Intervalo de confiança (95%): {intervalo_confianca}\")"
   ]
  },
  {
   "cell_type": "code",
   "execution_count": null,
   "id": "14013ef3-bd3e-43e8-99a0-83108892f61c",
   "metadata": {},
   "outputs": [],
   "source": []
  }
 ],
 "metadata": {
  "kernelspec": {
   "display_name": "Python 3 (ipykernel)",
   "language": "python",
   "name": "python3"
  },
  "language_info": {
   "codemirror_mode": {
    "name": "ipython",
    "version": 3
   },
   "file_extension": ".py",
   "mimetype": "text/x-python",
   "name": "python",
   "nbconvert_exporter": "python",
   "pygments_lexer": "ipython3",
   "version": "3.12.7"
  }
 },
 "nbformat": 4,
 "nbformat_minor": 5
}
