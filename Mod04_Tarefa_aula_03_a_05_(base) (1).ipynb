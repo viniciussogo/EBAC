{
  "cells": [
    {
      "cell_type": "markdown",
      "metadata": {
        "id": "njUvbhQmC8-t"
      },
      "source": [
        "## Exercício 1: Vestibular\n",
        "\n",
        "Considere que a os dados gerados na célula abaixo contêm o número de acertos de 100 alunos em um vestibular para um curso de exatas, divididas pelos respectivos assuntos. Considere que cada assunto possui um número de questões conforme a tabela abaixo:\n",
        "\n",
        "| assunto | número de questões |\n",
        "|:---:|:---:|\n",
        "| Matemática | 24 |\n",
        "| Português | 18 |\n",
        "| Geografia | 8 |\n",
        "| Inglês | 8 |\n",
        "| História | 8 |\n",
        "| Física | 12 |\n",
        "| Química | 12 |\n",
        "\n",
        "Usando os comandos de operações com DataFrames que você aprendeu na Aula 03, calcule:\n",
        "\n",
        "1. (operações com escalar) Calcule o percentual de acerto dos alunos por assunto.  \n",
        "2. (operações entre *DataFrames) Calcule o total de acertos de cada aluno.  \n",
        "3. Calcule o porcentual geral de cada aluno.  \n",
        "4. Suponha que a nota de corte para a segunda fase seja 45. Quantos alunos tiveram nota maior que 45?  "
      ]
    },
    {
      "cell_type": "code",
      "execution_count": null,
      "metadata": {
        "id": "Ll6TadxCC8-y"
      },
      "outputs": [],
      "source": [
        "import pandas as pd\n",
        "import numpy as np\n",
        "\n",
        "np.random.seed(42)\n",
        "df_mat = pd.DataFrame(np.random.randint(24, size=(100, 1)), columns=['Qt_acertos'])\n",
        "\n",
        "df_por = pd.DataFrame(np.random.randint(18, size=(100, 1)), columns=['Qt_acertos'])\n",
        "\n",
        "df_geo = pd.DataFrame(np.random.randint(8, size=(100, 1)), columns=['Qt_acertos'])\n",
        "\n",
        "df_ing = pd.DataFrame(np.random.randint(8, size=(100, 1)), columns=['Qt_acertos'])\n",
        "\n",
        "df_his = pd.DataFrame(np.random.randint(8, size=(100, 1)), columns=['Qt_acertos'])\n",
        "\n",
        "df_fis = pd.DataFrame(np.random.randint(12, size=(100, 1)), columns=['Qt_acertos'])\n",
        "\n",
        "df_qui = pd.DataFrame(np.random.randint(12, size=(100, 1)), columns=['Qt_acertos'])"
      ]
    },
    {
      "cell_type": "code",
      "execution_count": null,
      "metadata": {
        "id": "JVmLXiC2C8-0"
      },
      "outputs": [],
      "source": [
        "# 1) Seu código aqui\n",
        "\n"
      ]
    },
    {
      "cell_type": "code",
      "execution_count": null,
      "metadata": {
        "id": "JbTwCyNHC8-1"
      },
      "outputs": [],
      "source": [
        "# 2) Seu código aqui\n"
      ]
    },
    {
      "cell_type": "code",
      "execution_count": null,
      "metadata": {
        "id": "c2L8dJkVC8-3"
      },
      "outputs": [],
      "source": [
        "# 3) Seu código aqui\n"
      ]
    },
    {
      "cell_type": "code",
      "execution_count": null,
      "metadata": {
        "id": "PZTZ7DFzC8-3"
      },
      "outputs": [],
      "source": [
        "# 4) Seu código aqui\n"
      ]
    },
    {
      "cell_type": "markdown",
      "metadata": {
        "id": "Hlfl75XXC8-4"
      },
      "source": [
        "## 2) Vestibular II\n",
        "\n",
        "Ainda sobre o mesmo banco de dados:\n",
        "\n",
        "1. Neste vestibular, quem 'zera' em matemática, física ou química está desqualificado. Monte um novo *DataFrame* com os alunos desqualificados por este critério.\n",
        "2. Quantos são esses alunos?\n",
        "3. Qual a média desses alunos em história e geografia?\n",
        "4. Monte um *DataFrame* com os alunos que passaram para a segunda fase. Repare que estes alunos não podem ter sido desqualificados."
      ]
    },
    {
      "cell_type": "code",
      "execution_count": null,
      "metadata": {
        "id": "hPaMGXvJC8-4"
      },
      "outputs": [],
      "source": [
        "# seu código aqui"
      ]
    },
    {
      "cell_type": "markdown",
      "metadata": {
        "id": "EGBUWpAHC8-5"
      },
      "source": [
        "## 3) Vacinações no Acre\n",
        "Vamos trabalhar agora com a base de vacinações no Acre. Para facilitar a sua vida, copiamos o link do arquivo na célula abaixo.\n",
        "\n",
        "1. Quantas vacinas estão registradas nessa base?  \n",
        "2. Quantos pacientes foram vacinados? (considere um paciente para cada valor único de ```paciente_id```)  \n",
        "3. Quantos pacientes únicos tomaram a primeira dose? OBS: Há um caractere especial neste campo. Receba os valores do campo com o método ```.unique()```.   \n",
        "4. Quantos pacientes com menos de 18 anos foram vacinados?  \n",
        "5. Quantos estabelecimentos aplicaram vacina no Acre?\n",
        "\n",
        "\n",
        "**OBS:** O portal do DATASUS pode apresentar instabilidades, retornando um erro na segunda célula abaixo. Por este motivo está disponível uma base estática, que se for baixada para o seu *working directory* pode ser lida com este comando: ```df = pd.read_csv('registros de vacinacao covid ACRE.csv', sep=';')```.\n",
        "\n",
        "**OBS2:** Para saber qual é o seu working directory, rode no jupyter: ```!pwd```."
      ]
    },
    {
      "cell_type": "code",
      "execution_count": null,
      "metadata": {
        "id": "ET4r139hC8-5"
      },
      "outputs": [],
      "source": [
        "arquivo = 'https://s3.sa-east-1.amazonaws.com/ckan.saude.gov.br/SIPNI/COVID/uf/uf%3DAC/part-00000-5ed92752-6121-474f-ab37-816918134afc.c000.csv'"
      ]
    },
    {
      "cell_type": "code",
      "execution_count": null,
      "metadata": {
        "id": "SC9YMWLSC8-6"
      },
      "outputs": [],
      "source": [
        "# 1) Sua solução aqui\n",
        "\n"
      ]
    },
    {
      "cell_type": "code",
      "execution_count": null,
      "metadata": {
        "id": "PMztY1RlC8-7"
      },
      "outputs": [],
      "source": [
        "# 2)\n"
      ]
    },
    {
      "cell_type": "code",
      "execution_count": null,
      "metadata": {
        "id": "V_wr--3JC8-7"
      },
      "outputs": [],
      "source": [
        "# 3)\n"
      ]
    },
    {
      "cell_type": "code",
      "execution_count": null,
      "metadata": {
        "id": "SPHgIxtcC8-7"
      },
      "outputs": [],
      "source": [
        "# 3) solução alternativa\n"
      ]
    },
    {
      "cell_type": "code",
      "execution_count": null,
      "metadata": {
        "id": "S6ab9ExEC8-7"
      },
      "outputs": [],
      "source": [
        "# 4)\n"
      ]
    },
    {
      "cell_type": "code",
      "execution_count": null,
      "metadata": {
        "id": "PVrY_-qlC8-8"
      },
      "outputs": [],
      "source": [
        "# 5)\n"
      ]
    },
    {
      "cell_type": "markdown",
      "metadata": {
        "id": "LH1LSYvGC8-8"
      },
      "source": [
        "## 4) Vacinação II\n",
        "Gere um *DataFrame* que contenha somente os estabelecimentos que aplicaram vcinas a menores de 18 anos. Nesse *DataFrame* devem conter somente os dados dos estabelecimentos, mais uma coluna sendo a quantidade de vacinas que o estabelecimento aplicou a menores de 18 anos.  \n",
        "  \n",
        "1. crie uma cópia do *DataFrame* original, contendo somente os registros de vacinas realizadas a menores de 18 anos.  \n",
        "2. crie uma lista das colunas desse *DataFrame* com o atributo de *DataFrame* **.columns()**  \n",
        "3. Nesse *DataFrame* faça uma contagem do campo ```vacina_categoria_nome```.\n",
        "3. a partir da lista de colunas, escolha somente aquelas que são referentes ao estabelecimento, faça uma lista com esses valores.  \n",
        "4. usando o método *.loc*, selecione somente essas variáveis  \n",
        "5. Aplique o método **.drop_duplicates** e crie uma lista com uma linha para cada estabelecimento, com os dados do estabelecimento  "
      ]
    },
    {
      "cell_type": "code",
      "execution_count": null,
      "metadata": {
        "id": "3ojs12vUC8-8"
      },
      "outputs": [],
      "source": [
        "# 1)\n"
      ]
    },
    {
      "cell_type": "code",
      "execution_count": null,
      "metadata": {
        "id": "sLyevPRBC8-8"
      },
      "outputs": [],
      "source": [
        "# 2)\n"
      ]
    },
    {
      "cell_type": "code",
      "execution_count": null,
      "metadata": {
        "id": "lZAW-Dp8C8-8"
      },
      "outputs": [],
      "source": [
        "# 3)\n"
      ]
    },
    {
      "cell_type": "code",
      "execution_count": null,
      "metadata": {
        "id": "xxYsxrxAC8-8"
      },
      "outputs": [],
      "source": [
        "# 4)\n"
      ]
    },
    {
      "cell_type": "code",
      "execution_count": null,
      "metadata": {
        "id": "vaX2x_0rC8-8"
      },
      "outputs": [],
      "source": [
        "# 5)\n"
      ]
    }
  ],
  "metadata": {
    "kernelspec": {
      "display_name": "Python 3",
      "language": "python",
      "name": "python3"
    },
    "language_info": {
      "codemirror_mode": {
        "name": "ipython",
        "version": 3
      },
      "file_extension": ".py",
      "mimetype": "text/x-python",
      "name": "python",
      "nbconvert_exporter": "python",
      "pygments_lexer": "ipython3",
      "version": "3.8.5"
    },
    "toc": {
      "base_numbering": 1,
      "nav_menu": {},
      "number_sections": false,
      "sideBar": true,
      "skip_h1_title": true,
      "title_cell": "Índice",
      "title_sidebar": "Conteúdo",
      "toc_cell": false,
      "toc_position": {},
      "toc_section_display": true,
      "toc_window_display": false
    },
    "varInspector": {
      "cols": {
        "lenName": 16,
        "lenType": 16,
        "lenVar": 40
      },
      "kernels_config": {
        "python": {
          "delete_cmd_postfix": "",
          "delete_cmd_prefix": "del ",
          "library": "var_list.py",
          "varRefreshCmd": "print(var_dic_list())"
        },
        "r": {
          "delete_cmd_postfix": ") ",
          "delete_cmd_prefix": "rm(",
          "library": "var_list.r",
          "varRefreshCmd": "cat(var_dic_list()) "
        }
      },
      "types_to_exclude": [
        "module",
        "function",
        "builtin_function_or_method",
        "instance",
        "_Feature"
      ],
      "window_display": false
    },
    "colab": {
      "provenance": []
    }
  },
  "nbformat": 4,
  "nbformat_minor": 0
}