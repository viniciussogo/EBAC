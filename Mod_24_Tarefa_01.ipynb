{
 "cells": [
  {
   "cell_type": "markdown",
   "id": "43137e73-1c36-434c-8671-501817fe10db",
   "metadata": {},
   "source": [
    "# <center> Random Forest VS AdaBoost </center>"
   ]
  },
  {
   "cell_type": "markdown",
   "id": "8ac74591-29dd-4ae9-817e-3119d9c46829",
   "metadata": {},
   "source": [
    "    1.RF usa votação (classificação) ou média (regressão) entre várias árvores independentes, já o Ada faz uma combinação ponderada de modelos fracos, dando mais peso aos mais precisos.\n",
    "    2.RF cada árvore é treinada independentemente com dados diferentes, enquanto no Ada cada modelo novo é treinado focado nos erros do anterior.\n",
    "    3.RF todos os exemplos têm o mesmo peso durante o treinamento, No Ada os exemplos errados ganham mais peso a cada iteração, para que os próximos modelos foquem neles.\n",
    "    4. RF usa geralmente árvores profundas enquanto no Ada geralmente árvores rasas.\n",
    "    5. O RF tende uma melhor facilidade de ajustes enquanto no Ada requer mais atenção no Tunning."
   ]
  },
  {
   "cell_type": "code",
   "execution_count": 1,
   "id": "c42fedd3-3f0c-4e0f-b00b-d65c2d2fcb41",
   "metadata": {},
   "outputs": [
    {
     "data": {
      "text/plain": [
       "0.8965"
      ]
     },
     "execution_count": 1,
     "metadata": {},
     "output_type": "execute_result"
    }
   ],
   "source": [
    "from sklearn.ensemble import HistGradientBoostingClassifier\n",
    "from sklearn.datasets import make_hastie_10_2\n",
    "\n",
    "X, y = make_hastie_10_2(random_state=0)\n",
    "X_train, X_test = X[:2000], X[2000:]\n",
    "y_train, y_test = y[:2000], y[2000:]\n",
    "\n",
    "clf = HistGradientBoostingClassifier(max_iter=100).fit(X_train, y_train)\n",
    "clf.score(X_test, y_test)"
   ]
  },
  {
   "cell_type": "markdown",
   "id": "a3d13a99-2465-4e46-b51a-ad228be52aa7",
   "metadata": {},
   "source": [
    "## 5 Hyperparametros importantes no AdaBoost"
   ]
  },
  {
   "cell_type": "markdown",
   "id": "d0973c0c-bd5a-472d-9076-127670c74958",
   "metadata": {},
   "source": [
    "1. n_estimators\n",
    "2. learning_rate\n",
    "3. base_estimator\n",
    "4. algorithm\n",
    "5. random_state"
   ]
  },
  {
   "cell_type": "code",
   "execution_count": null,
   "id": "0cda4daf-1e88-4861-9546-ecdd464e17d1",
   "metadata": {},
   "outputs": [],
   "source": []
  }
 ],
 "metadata": {
  "kernelspec": {
   "display_name": "Python 3 (ipykernel)",
   "language": "python",
   "name": "python3"
  },
  "language_info": {
   "codemirror_mode": {
    "name": "ipython",
    "version": 3
   },
   "file_extension": ".py",
   "mimetype": "text/x-python",
   "name": "python",
   "nbconvert_exporter": "python",
   "pygments_lexer": "ipython3",
   "version": "3.12.7"
  }
 },
 "nbformat": 4,
 "nbformat_minor": 5
}
