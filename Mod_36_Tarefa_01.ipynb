{
  "cells": [
    {
      "cell_type": "markdown",
      "metadata": {
        "id": "FxHpbi-Qc8PB"
      },
      "source": [
        "![image.png](attachment:image.png)"
      ]
    },
    {
      "cell_type": "markdown",
      "metadata": {
        "id": "PGZsP_dsc8PD"
      },
      "source": [
        "# Tarefa"
      ]
    },
    {
      "cell_type": "markdown",
      "metadata": {
        "id": "Q4sGKBruc8PD"
      },
      "source": [
        "Carregue a base ```NFP.ftr```. Essa base é proveniente do projeto #AMABiliDados, e contém dados da nota fiscal paulista cadastrados para doação automática para a AMA, Associação de Amigos do Autista.\n",
        "\n",
        "A *Nota Fiscal Paulista* é um programa de incentivo do governo do estado de São Paulo, que retorna um pedacinho do ICMS ao consumidor sempre que solicita o registro do seu CPF na nota. Nesse programa, o contribuinte pode direcionar seus créditos a uma ONG, e quando faz isso, sempre que faz esse consumidor cadastrado faz uma compra, os créditos de notas emitidas pelo mesmo estabelecimento não identificadas (notas sem CPF) são \"arrastados\" para a ONG na forma de uma doação.\n",
        "\n",
        "Clique no link, caso queira saber mais sobre a [AMA](https://www.ama.org.br/site/).<br>\n",
        "Clique no link, caso queira saber como o cidadão pode ser um [doador da NFP](https://doacao1.ama.org.br/sitenfp).\n",
        "\n",
        "Essa base possui dados das notas cujos contribuintes direcionaram seus créditos à AMA. Seus campos estão descritos abaixo:\n",
        "\n",
        "|Campo|Descrição|\n",
        "|:-|:-|\n",
        "|CNPJ emit.| CNPJ do emitente da nota|\n",
        "|Emitente| Nome fantasia do emitente da nota|\n",
        "|No.| Número da nota fiscal|\n",
        "|Data Emissão| Data de emissão da nota fiscal|\n",
        "|Valor NF| Valor da nota fiscal|\n",
        "|Data Registro| Data de registro no sistema da NFP|\n",
        "|Créditos| Valor dos créditos (doação)|\n",
        "|Situação do Crédito| Se o crédito já foi pago, está sendo processado etc.|\n",
        "|Ano| Ano da emissão da nota|\n",
        "|Semestre| Semestre da emissão da nota|\n",
        "|Retorno| Valor do crédito dividido pelo valor da nota|\n",
        "|flag_credito| Indicadora se a nota possui crédito positivo|\n",
        "|categoria| Categorização da nota |\n",
        "\n",
        "**OBJETIVO:** Algumas notas não dão retorno, o que pode ocorrer por diversos motivos, um deles seria a ocorrência de produtos não incentivados como cigarros e bebidas alcólicas. O nosso objetivo é tentar prever que tipo de nota tem maior ou menor propensão a fornecer créditos.\n",
        "\n",
        "**Observação**: Esta é uma base real, havendo características de acordo. Pode haver uma variabilidade difícil de explicar, em parte por causa de uma freqüência de notas inconstante no tempo (por diversos motivos), em parte por haverem informações importantes, protegidas pela LGPD, não constantes na base, que pode interferir no crédito gerado, o que vai ocasionar uma variabilidade difícil de se explicar. *Welcome to the jungle*, A vida real é assim :)"
      ]
    },
    {
      "cell_type": "code",
      "execution_count": 10,
      "metadata": {
        "scrolled": true,
        "colab": {
          "base_uri": "https://localhost:8080/",
          "height": 206
        },
        "id": "32T03r4vc8PE",
        "outputId": "4ea81fb0-4dbe-4ca9-bba3-a23b3dd7c857"
      },
      "outputs": [
        {
          "output_type": "execute_result",
          "data": {
            "text/plain": [
              "           CNPJ emit.                                           Emitente  \\\n",
              "0  03.476.811/0741-98                      DIA BRASIL SOCIEDADE LIMITADA   \n",
              "1  43.101.310/0001-05                         AUTO POSTO ZANWAL LTDA EPP   \n",
              "2  23.750.257/0001-66  OFICINA DO TRIGO PASTIFICIO PANIFICADORA BAR E RE   \n",
              "3  23.750.257/0001-66  OFICINA DO TRIGO PASTIFICIO PANIFICADORA BAR E RE   \n",
              "4  23.750.257/0001-66  OFICINA DO TRIGO PASTIFICIO PANIFICADORA BAR E RE   \n",
              "\n",
              "    No. Data Emissão  Valor NF Data Registro  Créditos Situação do Crédito  \\\n",
              "0   537   2017-06-30     24.68    2017-06-30      0.00            Liberado   \n",
              "1  2894   2017-06-30     50.00    2017-06-30      0.00            Liberado   \n",
              "2   699   2017-06-30     27.00    2017-06-30      0.44            Liberado   \n",
              "3   698   2017-06-30    111.50    2017-06-30      1.81            Liberado   \n",
              "4   694   2017-06-30    125.00    2017-06-30      2.03            Liberado   \n",
              "\n",
              "    Ano  Semestre   Retorno  flag_credito     categoria  \n",
              "0  2017         1  0.000000             0       Mercado  \n",
              "1  2017         1  0.000000             0    Auto posto  \n",
              "2  2017         1  0.016296             1  Restaurantes  \n",
              "3  2017         1  0.016233             1  Restaurantes  \n",
              "4  2017         1  0.016240             1  Restaurantes  "
            ],
            "text/html": [
              "\n",
              "  <div id=\"df-dd768c40-1baa-42fc-bad6-97eb4eeb422d\" class=\"colab-df-container\">\n",
              "    <div>\n",
              "<style scoped>\n",
              "    .dataframe tbody tr th:only-of-type {\n",
              "        vertical-align: middle;\n",
              "    }\n",
              "\n",
              "    .dataframe tbody tr th {\n",
              "        vertical-align: top;\n",
              "    }\n",
              "\n",
              "    .dataframe thead th {\n",
              "        text-align: right;\n",
              "    }\n",
              "</style>\n",
              "<table border=\"1\" class=\"dataframe\">\n",
              "  <thead>\n",
              "    <tr style=\"text-align: right;\">\n",
              "      <th></th>\n",
              "      <th>CNPJ emit.</th>\n",
              "      <th>Emitente</th>\n",
              "      <th>No.</th>\n",
              "      <th>Data Emissão</th>\n",
              "      <th>Valor NF</th>\n",
              "      <th>Data Registro</th>\n",
              "      <th>Créditos</th>\n",
              "      <th>Situação do Crédito</th>\n",
              "      <th>Ano</th>\n",
              "      <th>Semestre</th>\n",
              "      <th>Retorno</th>\n",
              "      <th>flag_credito</th>\n",
              "      <th>categoria</th>\n",
              "    </tr>\n",
              "  </thead>\n",
              "  <tbody>\n",
              "    <tr>\n",
              "      <th>0</th>\n",
              "      <td>03.476.811/0741-98</td>\n",
              "      <td>DIA BRASIL SOCIEDADE LIMITADA</td>\n",
              "      <td>537</td>\n",
              "      <td>2017-06-30</td>\n",
              "      <td>24.68</td>\n",
              "      <td>2017-06-30</td>\n",
              "      <td>0.00</td>\n",
              "      <td>Liberado</td>\n",
              "      <td>2017</td>\n",
              "      <td>1</td>\n",
              "      <td>0.000000</td>\n",
              "      <td>0</td>\n",
              "      <td>Mercado</td>\n",
              "    </tr>\n",
              "    <tr>\n",
              "      <th>1</th>\n",
              "      <td>43.101.310/0001-05</td>\n",
              "      <td>AUTO POSTO ZANWAL LTDA EPP</td>\n",
              "      <td>2894</td>\n",
              "      <td>2017-06-30</td>\n",
              "      <td>50.00</td>\n",
              "      <td>2017-06-30</td>\n",
              "      <td>0.00</td>\n",
              "      <td>Liberado</td>\n",
              "      <td>2017</td>\n",
              "      <td>1</td>\n",
              "      <td>0.000000</td>\n",
              "      <td>0</td>\n",
              "      <td>Auto posto</td>\n",
              "    </tr>\n",
              "    <tr>\n",
              "      <th>2</th>\n",
              "      <td>23.750.257/0001-66</td>\n",
              "      <td>OFICINA DO TRIGO PASTIFICIO PANIFICADORA BAR E RE</td>\n",
              "      <td>699</td>\n",
              "      <td>2017-06-30</td>\n",
              "      <td>27.00</td>\n",
              "      <td>2017-06-30</td>\n",
              "      <td>0.44</td>\n",
              "      <td>Liberado</td>\n",
              "      <td>2017</td>\n",
              "      <td>1</td>\n",
              "      <td>0.016296</td>\n",
              "      <td>1</td>\n",
              "      <td>Restaurantes</td>\n",
              "    </tr>\n",
              "    <tr>\n",
              "      <th>3</th>\n",
              "      <td>23.750.257/0001-66</td>\n",
              "      <td>OFICINA DO TRIGO PASTIFICIO PANIFICADORA BAR E RE</td>\n",
              "      <td>698</td>\n",
              "      <td>2017-06-30</td>\n",
              "      <td>111.50</td>\n",
              "      <td>2017-06-30</td>\n",
              "      <td>1.81</td>\n",
              "      <td>Liberado</td>\n",
              "      <td>2017</td>\n",
              "      <td>1</td>\n",
              "      <td>0.016233</td>\n",
              "      <td>1</td>\n",
              "      <td>Restaurantes</td>\n",
              "    </tr>\n",
              "    <tr>\n",
              "      <th>4</th>\n",
              "      <td>23.750.257/0001-66</td>\n",
              "      <td>OFICINA DO TRIGO PASTIFICIO PANIFICADORA BAR E RE</td>\n",
              "      <td>694</td>\n",
              "      <td>2017-06-30</td>\n",
              "      <td>125.00</td>\n",
              "      <td>2017-06-30</td>\n",
              "      <td>2.03</td>\n",
              "      <td>Liberado</td>\n",
              "      <td>2017</td>\n",
              "      <td>1</td>\n",
              "      <td>0.016240</td>\n",
              "      <td>1</td>\n",
              "      <td>Restaurantes</td>\n",
              "    </tr>\n",
              "  </tbody>\n",
              "</table>\n",
              "</div>\n",
              "    <div class=\"colab-df-buttons\">\n",
              "\n",
              "  <div class=\"colab-df-container\">\n",
              "    <button class=\"colab-df-convert\" onclick=\"convertToInteractive('df-dd768c40-1baa-42fc-bad6-97eb4eeb422d')\"\n",
              "            title=\"Convert this dataframe to an interactive table.\"\n",
              "            style=\"display:none;\">\n",
              "\n",
              "  <svg xmlns=\"http://www.w3.org/2000/svg\" height=\"24px\" viewBox=\"0 -960 960 960\">\n",
              "    <path d=\"M120-120v-720h720v720H120Zm60-500h600v-160H180v160Zm220 220h160v-160H400v160Zm0 220h160v-160H400v160ZM180-400h160v-160H180v160Zm440 0h160v-160H620v160ZM180-180h160v-160H180v160Zm440 0h160v-160H620v160Z\"/>\n",
              "  </svg>\n",
              "    </button>\n",
              "\n",
              "  <style>\n",
              "    .colab-df-container {\n",
              "      display:flex;\n",
              "      gap: 12px;\n",
              "    }\n",
              "\n",
              "    .colab-df-convert {\n",
              "      background-color: #E8F0FE;\n",
              "      border: none;\n",
              "      border-radius: 50%;\n",
              "      cursor: pointer;\n",
              "      display: none;\n",
              "      fill: #1967D2;\n",
              "      height: 32px;\n",
              "      padding: 0 0 0 0;\n",
              "      width: 32px;\n",
              "    }\n",
              "\n",
              "    .colab-df-convert:hover {\n",
              "      background-color: #E2EBFA;\n",
              "      box-shadow: 0px 1px 2px rgba(60, 64, 67, 0.3), 0px 1px 3px 1px rgba(60, 64, 67, 0.15);\n",
              "      fill: #174EA6;\n",
              "    }\n",
              "\n",
              "    .colab-df-buttons div {\n",
              "      margin-bottom: 4px;\n",
              "    }\n",
              "\n",
              "    [theme=dark] .colab-df-convert {\n",
              "      background-color: #3B4455;\n",
              "      fill: #D2E3FC;\n",
              "    }\n",
              "\n",
              "    [theme=dark] .colab-df-convert:hover {\n",
              "      background-color: #434B5C;\n",
              "      box-shadow: 0px 1px 3px 1px rgba(0, 0, 0, 0.15);\n",
              "      filter: drop-shadow(0px 1px 2px rgba(0, 0, 0, 0.3));\n",
              "      fill: #FFFFFF;\n",
              "    }\n",
              "  </style>\n",
              "\n",
              "    <script>\n",
              "      const buttonEl =\n",
              "        document.querySelector('#df-dd768c40-1baa-42fc-bad6-97eb4eeb422d button.colab-df-convert');\n",
              "      buttonEl.style.display =\n",
              "        google.colab.kernel.accessAllowed ? 'block' : 'none';\n",
              "\n",
              "      async function convertToInteractive(key) {\n",
              "        const element = document.querySelector('#df-dd768c40-1baa-42fc-bad6-97eb4eeb422d');\n",
              "        const dataTable =\n",
              "          await google.colab.kernel.invokeFunction('convertToInteractive',\n",
              "                                                    [key], {});\n",
              "        if (!dataTable) return;\n",
              "\n",
              "        const docLinkHtml = 'Like what you see? Visit the ' +\n",
              "          '<a target=\"_blank\" href=https://colab.research.google.com/notebooks/data_table.ipynb>data table notebook</a>'\n",
              "          + ' to learn more about interactive tables.';\n",
              "        element.innerHTML = '';\n",
              "        dataTable['output_type'] = 'display_data';\n",
              "        await google.colab.output.renderOutput(dataTable, element);\n",
              "        const docLink = document.createElement('div');\n",
              "        docLink.innerHTML = docLinkHtml;\n",
              "        element.appendChild(docLink);\n",
              "      }\n",
              "    </script>\n",
              "  </div>\n",
              "\n",
              "\n",
              "<div id=\"df-0af7aa46-2a3f-4706-8313-9ee76dcef2bc\">\n",
              "  <button class=\"colab-df-quickchart\" onclick=\"quickchart('df-0af7aa46-2a3f-4706-8313-9ee76dcef2bc')\"\n",
              "            title=\"Suggest charts\"\n",
              "            style=\"display:none;\">\n",
              "\n",
              "<svg xmlns=\"http://www.w3.org/2000/svg\" height=\"24px\"viewBox=\"0 0 24 24\"\n",
              "     width=\"24px\">\n",
              "    <g>\n",
              "        <path d=\"M19 3H5c-1.1 0-2 .9-2 2v14c0 1.1.9 2 2 2h14c1.1 0 2-.9 2-2V5c0-1.1-.9-2-2-2zM9 17H7v-7h2v7zm4 0h-2V7h2v10zm4 0h-2v-4h2v4z\"/>\n",
              "    </g>\n",
              "</svg>\n",
              "  </button>\n",
              "\n",
              "<style>\n",
              "  .colab-df-quickchart {\n",
              "      --bg-color: #E8F0FE;\n",
              "      --fill-color: #1967D2;\n",
              "      --hover-bg-color: #E2EBFA;\n",
              "      --hover-fill-color: #174EA6;\n",
              "      --disabled-fill-color: #AAA;\n",
              "      --disabled-bg-color: #DDD;\n",
              "  }\n",
              "\n",
              "  [theme=dark] .colab-df-quickchart {\n",
              "      --bg-color: #3B4455;\n",
              "      --fill-color: #D2E3FC;\n",
              "      --hover-bg-color: #434B5C;\n",
              "      --hover-fill-color: #FFFFFF;\n",
              "      --disabled-bg-color: #3B4455;\n",
              "      --disabled-fill-color: #666;\n",
              "  }\n",
              "\n",
              "  .colab-df-quickchart {\n",
              "    background-color: var(--bg-color);\n",
              "    border: none;\n",
              "    border-radius: 50%;\n",
              "    cursor: pointer;\n",
              "    display: none;\n",
              "    fill: var(--fill-color);\n",
              "    height: 32px;\n",
              "    padding: 0;\n",
              "    width: 32px;\n",
              "  }\n",
              "\n",
              "  .colab-df-quickchart:hover {\n",
              "    background-color: var(--hover-bg-color);\n",
              "    box-shadow: 0 1px 2px rgba(60, 64, 67, 0.3), 0 1px 3px 1px rgba(60, 64, 67, 0.15);\n",
              "    fill: var(--button-hover-fill-color);\n",
              "  }\n",
              "\n",
              "  .colab-df-quickchart-complete:disabled,\n",
              "  .colab-df-quickchart-complete:disabled:hover {\n",
              "    background-color: var(--disabled-bg-color);\n",
              "    fill: var(--disabled-fill-color);\n",
              "    box-shadow: none;\n",
              "  }\n",
              "\n",
              "  .colab-df-spinner {\n",
              "    border: 2px solid var(--fill-color);\n",
              "    border-color: transparent;\n",
              "    border-bottom-color: var(--fill-color);\n",
              "    animation:\n",
              "      spin 1s steps(1) infinite;\n",
              "  }\n",
              "\n",
              "  @keyframes spin {\n",
              "    0% {\n",
              "      border-color: transparent;\n",
              "      border-bottom-color: var(--fill-color);\n",
              "      border-left-color: var(--fill-color);\n",
              "    }\n",
              "    20% {\n",
              "      border-color: transparent;\n",
              "      border-left-color: var(--fill-color);\n",
              "      border-top-color: var(--fill-color);\n",
              "    }\n",
              "    30% {\n",
              "      border-color: transparent;\n",
              "      border-left-color: var(--fill-color);\n",
              "      border-top-color: var(--fill-color);\n",
              "      border-right-color: var(--fill-color);\n",
              "    }\n",
              "    40% {\n",
              "      border-color: transparent;\n",
              "      border-right-color: var(--fill-color);\n",
              "      border-top-color: var(--fill-color);\n",
              "    }\n",
              "    60% {\n",
              "      border-color: transparent;\n",
              "      border-right-color: var(--fill-color);\n",
              "    }\n",
              "    80% {\n",
              "      border-color: transparent;\n",
              "      border-right-color: var(--fill-color);\n",
              "      border-bottom-color: var(--fill-color);\n",
              "    }\n",
              "    90% {\n",
              "      border-color: transparent;\n",
              "      border-bottom-color: var(--fill-color);\n",
              "    }\n",
              "  }\n",
              "</style>\n",
              "\n",
              "  <script>\n",
              "    async function quickchart(key) {\n",
              "      const quickchartButtonEl =\n",
              "        document.querySelector('#' + key + ' button');\n",
              "      quickchartButtonEl.disabled = true;  // To prevent multiple clicks.\n",
              "      quickchartButtonEl.classList.add('colab-df-spinner');\n",
              "      try {\n",
              "        const charts = await google.colab.kernel.invokeFunction(\n",
              "            'suggestCharts', [key], {});\n",
              "      } catch (error) {\n",
              "        console.error('Error during call to suggestCharts:', error);\n",
              "      }\n",
              "      quickchartButtonEl.classList.remove('colab-df-spinner');\n",
              "      quickchartButtonEl.classList.add('colab-df-quickchart-complete');\n",
              "    }\n",
              "    (() => {\n",
              "      let quickchartButtonEl =\n",
              "        document.querySelector('#df-0af7aa46-2a3f-4706-8313-9ee76dcef2bc button');\n",
              "      quickchartButtonEl.style.display =\n",
              "        google.colab.kernel.accessAllowed ? 'block' : 'none';\n",
              "    })();\n",
              "  </script>\n",
              "</div>\n",
              "\n",
              "    </div>\n",
              "  </div>\n"
            ],
            "application/vnd.google.colaboratory.intrinsic+json": {
              "type": "dataframe",
              "variable_name": "df"
            }
          },
          "metadata": {},
          "execution_count": 10
        }
      ],
      "source": [
        "import pandas as pd\n",
        "import matplotlib.pyplot as plt\n",
        "import numpy as np\n",
        "\n",
        "df = pd.read_pickle('base_nfp.pkl')\n",
        "df.head()"
      ]
    },
    {
      "cell_type": "markdown",
      "metadata": {
        "id": "wm8HTBzRc8PF"
      },
      "source": [
        "## Análise da probabilidade de retorno\n",
        "\n",
        "Considere somente os dados de janeiro de 2020 em diante para esta análise.\n",
        "\n",
        "- Analise a proporção de notas que tiveram retorno>0 por categoria de estabelecimento. Esta análise pode ser por tabela ou gráfico."
      ]
    },
    {
      "cell_type": "code",
      "execution_count": 8,
      "metadata": {
        "colab": {
          "base_uri": "https://localhost:8080/",
          "height": 927
        },
        "id": "lbNaRAWDc8PF",
        "outputId": "c6d4baeb-ceeb-4952-c2d6-494bcad7974c"
      },
      "outputs": [
        {
          "output_type": "stream",
          "name": "stderr",
          "text": [
            "<ipython-input-8-be42d00edb26>:8: SettingWithCopyWarning: \n",
            "A value is trying to be set on a copy of a slice from a DataFrame.\n",
            "Try using .loc[row_indexer,col_indexer] = value instead\n",
            "\n",
            "See the caveats in the documentation: https://pandas.pydata.org/pandas-docs/stable/user_guide/indexing.html#returning-a-view-versus-a-copy\n",
            "  df_filtered['Retorno Maior Que 0'] = df_filtered['Retorno'] > 0\n"
          ]
        },
        {
          "output_type": "stream",
          "name": "stdout",
          "text": [
            "categoria\n",
            "Alimentos       0.681584\n",
            "Auto posto      0.250000\n",
            "Construção      0.468810\n",
            "Farmácia        0.351556\n",
            "Mercado         0.478155\n",
            "Restaurantes    0.746214\n",
            "Varejo          0.138373\n",
            "Vestuário       0.230729\n",
            "não definido    0.363394\n",
            "Name: Retorno Maior Que 0, dtype: float64\n"
          ]
        },
        {
          "output_type": "display_data",
          "data": {
            "text/plain": [
              "<Figure size 1000x600 with 1 Axes>"
            ],
            "image/png": "[encoded data removed]"
          },
          "metadata": {}
        }
      ],
      "source": [
        "# Converter a coluna 'Data Emissão' para datetime\n",
        "df['Data Emissão'] = pd.to_datetime(df['Data Emissão'])\n",
        "\n",
        "# Filtrar os dados a partir de janeiro de 2020\n",
        "df_filtered = df[df['Data Emissão'] >= '2020-01-01']\n",
        "\n",
        "# Calcular a proporção de notas com retorno > 0 por categoria de estabelecimento\n",
        "df_filtered['Retorno Maior Que 0'] = df_filtered['Retorno'] > 0\n",
        "proporcao_retorno = df_filtered.groupby('categoria')['Retorno Maior Que 0'].mean()\n",
        "\n",
        "# Exibir a tabela\n",
        "print(proporcao_retorno)\n",
        "\n",
        "# Gerar o gráfico\n",
        "plt.figure(figsize=(10, 6))\n",
        "proporcao_retorno.plot(kind='bar', color='skyblue')\n",
        "plt.title('Proporção de Notas com Retorno > 0 por Categoria de Estabelecimento (Jan 2020 em diante)')\n",
        "plt.xlabel('Categoria')\n",
        "plt.ylabel('Proporção de Notas com Retorno > 0')\n",
        "plt.xticks(rotation=45, ha='right')\n",
        "plt.tight_layout()\n",
        "plt.show()"
      ]
    },
    {
      "cell_type": "markdown",
      "metadata": {
        "id": "NKeN2qnlc8PF"
      },
      "source": [
        "## Cálculo do WOE\n",
        "\n",
        "- Calcule o WOE das categorias, sendo que o evento em questão é a nota ter retorno>0.\n",
        "- Analise este WOE por tabela e por gráfico."
      ]
    },
    {
      "cell_type": "code",
      "execution_count": 12,
      "metadata": {
        "colab": {
          "base_uri": "https://localhost:8080/",
          "height": 814
        },
        "id": "-ZnXtwn3c8PF",
        "outputId": "6420f20f-9e78-4c1e-ac94-a2492517a3bd"
      },
      "outputs": [
        {
          "output_type": "stream",
          "name": "stdout",
          "text": [
            "categoria\n",
            "Alimentos       1.046342\n",
            "Auto posto     -0.813331\n",
            "Construção      0.160360\n",
            "Farmácia       -0.326928\n",
            "Mercado         0.197846\n",
            "Restaurantes    1.363801\n",
            "Varejo         -1.543585\n",
            "Vestuário      -0.918918\n",
            "não definido   -0.275381\n",
            "dtype: float64\n"
          ]
        },
        {
          "output_type": "display_data",
          "data": {
            "text/plain": [
              "<Figure size 1000x600 with 1 Axes>"
            ],
            "image/png": "[encoded data removed]"
          },
          "metadata": {}
        }
      ],
      "source": [
        "# Criar coluna indicando se a nota teve retorno > 0\n",
        "df_filtered['Retorno Maior Que 0'] = df_filtered['Retorno'] > 0\n",
        "\n",
        "# Calcular o número total de \"bons\" e \"maus\"\n",
        "total_bons = df_filtered['Retorno Maior Que 0'].sum()\n",
        "total_maus = len(df_filtered) - total_bons\n",
        "\n",
        "# Calcular as distribuições de \"bons\" e \"maus\" por categoria\n",
        "dist_bons_categoria = df_filtered.groupby('categoria')['Retorno Maior Que 0'].sum() / total_bons\n",
        "dist_maus_categoria = (df_filtered.groupby('categoria').size() - df_filtered.groupby('categoria')['Retorno Maior Que 0'].sum()) / total_maus\n",
        "\n",
        "# Calcular o WOE\n",
        "woe_categoria = (dist_bons_categoria / dist_maus_categoria).apply(lambda x: np.log(x))\n",
        "\n",
        "# Exibir a tabela de WOE por categoria\n",
        "print(woe_categoria)\n",
        "\n",
        "# Gerar gráfico do WOE por categoria\n",
        "plt.figure(figsize=(10, 6))\n",
        "woe_categoria.plot(kind='bar', color='lightcoral')\n",
        "plt.title('WOE por Categoria de Estabelecimento')\n",
        "plt.xlabel('Categoria')\n",
        "plt.ylabel('WOE')\n",
        "plt.xticks(rotation=45, ha='right')\n",
        "plt.tight_layout()\n",
        "plt.show()"
      ]
    },
    {
      "cell_type": "markdown",
      "metadata": {
        "id": "rG6ypvxhc8PF"
      },
      "source": [
        "## Cálculo do *Information Value*\n",
        "\n",
        "Calcule o *IV* dessa variável."
      ]
    },
    {
      "cell_type": "code",
      "execution_count": 13,
      "metadata": {
        "colab": {
          "base_uri": "https://localhost:8080/"
        },
        "id": "xv6qvZFvc8PF",
        "outputId": "739b515f-2cb7-41bc-c9cc-3baa779e2707"
      },
      "outputs": [
        {
          "output_type": "stream",
          "name": "stdout",
          "text": [
            "Information Value (IV) para a variável \"categoria\": 0.27882574285237305\n"
          ]
        }
      ],
      "source": [
        "# Calcular a diferença entre distribuições de bons e maus\n",
        "diff_bons_maus = dist_bons_categoria - dist_maus_categoria\n",
        "\n",
        "# Calcular o IV\n",
        "iv_categoria = (diff_bons_maus * woe_categoria).sum()\n",
        "\n",
        "# Exibir o IV\n",
        "print(f'Information Value (IV) para a variável \"categoria\": {iv_categoria}')\n"
      ]
    },
    {
      "cell_type": "markdown",
      "metadata": {
        "id": "QxtQjP15c8PG"
      },
      "source": [
        "## Conclua\n",
        "\n",
        "Não se esqueça de registrar suas conclusões em uma célula de texto. <font color='red'>**Sugestão:**</font> tente alterar a cor da fonte nesta célula para diferenciá-la das demais.\n"
      ]
    },
    {
      "cell_type": "markdown",
      "source": [
        " <font color='blue'>A variável tem poder preditivo moderado, o que é útil para a construção de modelos preditivos, mas não é a variável mais importante."
      ],
      "metadata": {
        "id": "Fdkm50axgtFo"
      }
    },
    {
      "cell_type": "code",
      "source": [],
      "metadata": {
        "id": "iAemmYHMgv4U"
      },
      "execution_count": null,
      "outputs": []
    }
  ],
  "metadata": {
    "kernelspec": {
      "display_name": "Python 3",
      "language": "python",
      "name": "python3"
    },
    "language_info": {
      "codemirror_mode": {
        "name": "ipython",
        "version": 3
      },
      "file_extension": ".py",
      "mimetype": "text/x-python",
      "name": "python",
      "nbconvert_exporter": "python",
      "pygments_lexer": "ipython3",
      "version": "3.8.5"
    },
    "toc": {
      "base_numbering": 1,
      "nav_menu": {},
      "number_sections": false,
      "sideBar": true,
      "skip_h1_title": true,
      "title_cell": "Índice",
      "title_sidebar": "Conteúdo",
      "toc_cell": false,
      "toc_position": {},
      "toc_section_display": true,
      "toc_window_display": false
    },
    "varInspector": {
      "cols": {
        "lenName": 16,
        "lenType": 16,
        "lenVar": 40
      },
      "kernels_config": {
        "python": {
          "delete_cmd_postfix": "",
          "delete_cmd_prefix": "del ",
          "library": "var_list.py",
          "varRefreshCmd": "print(var_dic_list())"
        },
        "r": {
          "delete_cmd_postfix": ") ",
          "delete_cmd_prefix": "rm(",
          "library": "var_list.r",
          "varRefreshCmd": "cat(var_dic_list()) "
        }
      },
      "types_to_exclude": [
        "module",
        "function",
        "builtin_function_or_method",
        "instance",
        "_Feature"
      ],
      "window_display": false
    },
    "colab": {
      "provenance": []
    }
  },
  "nbformat": 4,
  "nbformat_minor": 0
}