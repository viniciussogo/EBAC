{
  "cells": [
    {
      "cell_type": "markdown",
      "metadata": {
        "id": "Xn0MK2rvilbB"
      },
      "source": [
        "![image.png](attachment:image.png)\n",
        "\n",
        "# Tarefa I"
      ]
    },
    {
      "cell_type": "markdown",
      "metadata": {
        "id": "lJaoE7X2ilbC"
      },
      "source": [
        "1. Qual a principal diferença entre um *behaviour score* e um *credit score*?"
      ]
    },
    {
      "cell_type": "markdown",
      "source": [
        "Behaviour score é baseado no comportamento de compra do cliente já ativo na empresa e seu risco de inadiplencia, já o credit score é baseado no histórico de crédito do cliente de outras instituições financeiras e diz seu risco de conceder crédito para esse novo cliente."
      ],
      "metadata": {
        "id": "KwRFotkuoQK7"
      }
    },
    {
      "cell_type": "markdown",
      "metadata": {
        "id": "f4quRV5UilbD"
      },
      "source": [
        "2. Por que é tão comum se estabelecer janelas de desempenho de 12 meses, e 12 safras para o desenvolvimento de modelos?"
      ]
    },
    {
      "cell_type": "markdown",
      "metadata": {
        "id": "w7wlq5A4ilbD"
      },
      "source": [
        "1- Devido ao ciclo anual que ajuda a medir o comportamento do cliente durante todo o ano.\n",
        "2- Equilíbrio entre curto e longo prazo\n",
        "3- Padrão de mercado, muitas instituições adotam ciclos anuais para facilitar comparações entre modelos.\n"
      ]
    },
    {
      "cell_type": "markdown",
      "metadata": {
        "id": "4cfEzPwYilbD"
      },
      "source": [
        "3. Qual a diferença entre amostra *out of time* e amostra *out of sample*?"
      ]
    },
    {
      "cell_type": "markdown",
      "metadata": {
        "id": "tNR9xgZAilbD"
      },
      "source": [
        "Out of time é uma amostra que vem de um período diferente, como por exemplo comparar alunos de anos diferenetes. Já out-of-sample vem do mesmo grupo, eles só não foram treinados juntos."
      ]
    },
    {
      "cell_type": "markdown",
      "metadata": {
        "id": "cjEp_APGilbD"
      },
      "source": [
        "4. Se os dados da variavel resposta estão sistematicamente corrompidos para duas das safras de desenvolvimento, o que você faria?"
      ]
    },
    {
      "cell_type": "markdown",
      "metadata": {
        "id": "ZzjA_IzZilbE"
      },
      "source": [
        "Retiraria elas do desenvolvimento do modelo para evitar projetos enviesados"
      ]
    },
    {
      "cell_type": "code",
      "source": [],
      "metadata": {
        "id": "OYAPQydVqQpD"
      },
      "execution_count": null,
      "outputs": []
    }
  ],
  "metadata": {
    "kernelspec": {
      "display_name": "Python 3",
      "language": "python",
      "name": "python3"
    },
    "language_info": {
      "codemirror_mode": {
        "name": "ipython",
        "version": 3
      },
      "file_extension": ".py",
      "mimetype": "text/x-python",
      "name": "python",
      "nbconvert_exporter": "python",
      "pygments_lexer": "ipython3",
      "version": "3.8.5"
    },
    "toc": {
      "base_numbering": 1,
      "nav_menu": {},
      "number_sections": false,
      "sideBar": true,
      "skip_h1_title": true,
      "title_cell": "Índice",
      "title_sidebar": "Conteúdo",
      "toc_cell": false,
      "toc_position": {},
      "toc_section_display": true,
      "toc_window_display": false
    },
    "varInspector": {
      "cols": {
        "lenName": 16,
        "lenType": 16,
        "lenVar": 40
      },
      "kernels_config": {
        "python": {
          "delete_cmd_postfix": "",
          "delete_cmd_prefix": "del ",
          "library": "var_list.py",
          "varRefreshCmd": "print(var_dic_list())"
        },
        "r": {
          "delete_cmd_postfix": ") ",
          "delete_cmd_prefix": "rm(",
          "library": "var_list.r",
          "varRefreshCmd": "cat(var_dic_list()) "
        }
      },
      "types_to_exclude": [
        "module",
        "function",
        "builtin_function_or_method",
        "instance",
        "_Feature"
      ],
      "window_display": false
    },
    "colab": {
      "provenance": []
    }
  },
  "nbformat": 4,
  "nbformat_minor": 0
}