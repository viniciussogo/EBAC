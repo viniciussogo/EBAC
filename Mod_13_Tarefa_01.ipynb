{
  "cells": [
    {
      "cell_type": "markdown",
      "metadata": {
        "id": "bG-BDRqNA4cU"
      },
      "source": [
        "# EBAC - Regressão II - regressão múltipla\n",
        "\n",
        "## Tarefa I"
      ]
    },
    {
      "cell_type": "markdown",
      "metadata": {
        "id": "CS-1NrEOA4cW"
      },
      "source": [
        "#### Previsão de renda\n",
        "\n",
        "Vamos trabalhar com a base 'previsao_de_renda.csv', que é a base do seu próximo projeto. Vamos usar os recursos que vimos até aqui nesta base.\n",
        "\n",
        "|variavel|descrição|\n",
        "|-|-|\n",
        "|data_ref                | Data de referência de coleta das variáveis |\n",
        "|index                   | Código de identificação do cliente|\n",
        "|sexo                    | Sexo do cliente|\n",
        "|posse_de_veiculo        | Indica se o cliente possui veículo|\n",
        "|posse_de_imovel         | Indica se o cliente possui imóvel|\n",
        "|qtd_filhos              | Quantidade de filhos do cliente|\n",
        "|tipo_renda              | Tipo de renda do cliente|\n",
        "|educacao                | Grau de instrução do cliente|\n",
        "|estado_civil            | Estado civil do cliente|\n",
        "|tipo_residencia         | Tipo de residência do cliente (própria, alugada etc)|\n",
        "|idade                   | Idade do cliente|\n",
        "|tempo_emprego           | Tempo no emprego atual|\n",
        "|qt_pessoas_residencia   | Quantidade de pessoas que moram na residência|\n",
        "|renda                   | Renda em reais|"
      ]
    },
    {
      "cell_type": "code",
      "execution_count": 2,
      "metadata": {
        "id": "idfg9vPaA4cW"
      },
      "outputs": [],
      "source": [
        "import pandas as pd\n",
        "import numpy as np\n",
        "import statsmodels.api as sm\n",
        "from patsy import dmatrices"
      ]
    },
    {
      "cell_type": "code",
      "execution_count": 3,
      "metadata": {
        "id": "em5ydOirA4cX"
      },
      "outputs": [],
      "source": [
        "df = pd.read_csv('previsao_de_renda.csv')"
      ]
    },
    {
      "cell_type": "code",
      "execution_count": 4,
      "metadata": {
        "colab": {
          "base_uri": "https://localhost:8080/"
        },
        "id": "rV0Jp6oHA4cX",
        "outputId": "76c38518-bc84-4dee-84ac-0fd17c0686ab"
      },
      "outputs": [
        {
          "output_type": "stream",
          "name": "stdout",
          "text": [
            "<class 'pandas.core.frame.DataFrame'>\n",
            "RangeIndex: 15000 entries, 0 to 14999\n",
            "Data columns (total 15 columns):\n",
            " #   Column                 Non-Null Count  Dtype  \n",
            "---  ------                 --------------  -----  \n",
            " 0   Unnamed: 0             15000 non-null  int64  \n",
            " 1   data_ref               15000 non-null  object \n",
            " 2   id_cliente             15000 non-null  int64  \n",
            " 3   sexo                   15000 non-null  object \n",
            " 4   posse_de_veiculo       15000 non-null  bool   \n",
            " 5   posse_de_imovel        15000 non-null  bool   \n",
            " 6   qtd_filhos             15000 non-null  int64  \n",
            " 7   tipo_renda             15000 non-null  object \n",
            " 8   educacao               15000 non-null  object \n",
            " 9   estado_civil           15000 non-null  object \n",
            " 10  tipo_residencia        15000 non-null  object \n",
            " 11  idade                  15000 non-null  int64  \n",
            " 12  tempo_emprego          12427 non-null  float64\n",
            " 13  qt_pessoas_residencia  15000 non-null  float64\n",
            " 14  renda                  15000 non-null  float64\n",
            "dtypes: bool(2), float64(3), int64(4), object(6)\n",
            "memory usage: 1.5+ MB\n"
          ]
        }
      ],
      "source": [
        "df.info()"
      ]
    },
    {
      "cell_type": "markdown",
      "metadata": {
        "id": "tCAAaBlxA4cX"
      },
      "source": [
        "1. Ajuste um modelo para prever log(renda) considerando todas as covariáveis disponíveis.\n",
        "    - Utilizando os recursos do Patsy, coloque as variáveis qualitativas como *dummies*.\n",
        "    - Mantenha sempre a categoria mais frequente como casela de referência\n",
        "    - Avalie os parâmetros e veja se parecem fazer sentido prático.\n",
        "\n",
        "2. Remova a variável menos significante e analise:\n",
        "    - Observe os indicadores que vimos, e avalie se o modelo melhorou ou piorou na sua opinião.\n",
        "    - Observe os parâmetros e veja se algum se alterou muito.\n",
        "\n",
        "3. Siga removendo as variáveis menos significantes, sempre que o *p-value* for menor que 5%. Compare o modelo final com o inicial. Observe os indicadores e conclua se o modelo parece melhor.\n",
        "    "
      ]
    },
    {
      "cell_type": "code",
      "execution_count": 5,
      "metadata": {
        "colab": {
          "base_uri": "https://localhost:8080/"
        },
        "id": "kazXqjbWA4cY",
        "outputId": "ceab5f49-a468-419e-b647-167a37c80568"
      },
      "outputs": [
        {
          "output_type": "stream",
          "name": "stdout",
          "text": [
            "Unnamed: 0                  0\n",
            "data_ref                    0\n",
            "id_cliente                  0\n",
            "sexo                        0\n",
            "posse_de_veiculo            0\n",
            "posse_de_imovel             0\n",
            "qtd_filhos                  0\n",
            "tipo_renda                  0\n",
            "educacao                    0\n",
            "estado_civil                0\n",
            "tipo_residencia             0\n",
            "idade                       0\n",
            "tempo_emprego            2573\n",
            "qt_pessoas_residencia       0\n",
            "renda                       0\n",
            "dtype: int64\n"
          ]
        }
      ],
      "source": [
        "# Verificar valores nulos\n",
        "print(df.isnull().sum())\n",
        "\n",
        "# Substituir valores nulos na coluna 'tempo_emprego' pela mediana ou média, por exemplo:\n",
        "df['tempo_emprego'] = df['tempo_emprego'].fillna(df['tempo_emprego'].median())"
      ]
    },
    {
      "cell_type": "code",
      "source": [
        "# Definir a fórmula para o modelo\n",
        "formula = 'np.log(renda) ~ sexo + posse_de_veiculo + posse_de_imovel + qtd_filhos + tipo_renda + educacao + estado_civil + tipo_residencia + idade + tempo_emprego + qt_pessoas_residencia'\n",
        "\n",
        "# Criar a matriz de design usando patsy\n",
        "y, X = dmatrices(formula, data=df, return_type='dataframe')\n",
        "\n",
        "# Ajustar o modelo de regressão\n",
        "modelo_inicial = sm.OLS(y, X)\n",
        "resultado_inicial = modelo_inicial.fit()\n",
        "\n",
        "# Verificar o resumo do modelo\n",
        "print(resultado_inicial.summary())"
      ],
      "metadata": {
        "id": "IfgW34PJDD2l",
        "colab": {
          "base_uri": "https://localhost:8080/"
        },
        "outputId": "d141879a-1657-4879-a32b-4d58b593a69f"
      },
      "execution_count": 14,
      "outputs": [
        {
          "output_type": "stream",
          "name": "stdout",
          "text": [
            "                            OLS Regression Results                            \n",
            "==============================================================================\n",
            "Dep. Variable:          np.log(renda)   R-squared:                       0.348\n",
            "Model:                            OLS   Adj. R-squared:                  0.347\n",
            "Method:                 Least Squares   F-statistic:                     333.6\n",
            "Date:                Wed, 12 Feb 2025   Prob (F-statistic):               0.00\n",
            "Time:                        23:29:12   Log-Likelihood:                -16213.\n",
            "No. Observations:               15000   AIC:                         3.248e+04\n",
            "Df Residuals:                   14975   BIC:                         3.267e+04\n",
            "Df Model:                          24                                         \n",
            "Covariance Type:            nonrobust                                         \n",
            "====================================================================================================\n",
            "                                       coef    std err          t      P>|t|      [0.025      0.975]\n",
            "----------------------------------------------------------------------------------------------------\n",
            "Intercept                            6.6950      0.224     29.902      0.000       6.256       7.134\n",
            "sexo[T.M]                            0.7946      0.014     57.705      0.000       0.768       0.822\n",
            "posse_de_veiculo[T.True]             0.0351      0.013      2.692      0.007       0.010       0.061\n",
            "posse_de_imovel[T.True]              0.0898      0.013      6.984      0.000       0.065       0.115\n",
            "tipo_renda[T.Bolsista]               0.2074      0.238      0.870      0.385      -0.260       0.675\n",
            "tipo_renda[T.Empresário]             0.1543      0.015     10.459      0.000       0.125       0.183\n",
            "tipo_renda[T.Pensionista]           -0.0862      0.021     -4.039      0.000      -0.128      -0.044\n",
            "tipo_renda[T.Servidor público]       0.0572      0.022      2.604      0.009       0.014       0.100\n",
            "educacao[T.Pós graduação]            0.0547      0.151      0.362      0.717      -0.241       0.351\n",
            "educacao[T.Secundário]              -0.0720      0.056     -1.279      0.201      -0.182       0.038\n",
            "educacao[T.Superior completo]        0.0477      0.057      0.841      0.400      -0.064       0.159\n",
            "educacao[T.Superior incompleto]     -0.1024      0.063     -1.613      0.107      -0.227       0.022\n",
            "estado_civil[T.Separado]             0.2754      0.107      2.568      0.010       0.065       0.486\n",
            "estado_civil[T.Solteiro]             0.2291      0.105      2.178      0.029       0.023       0.435\n",
            "estado_civil[T.União]               -0.0382      0.023     -1.661      0.097      -0.083       0.007\n",
            "estado_civil[T.Viúvo]                0.2855      0.108      2.638      0.008       0.073       0.498\n",
            "tipo_residencia[T.Casa]             -0.0314      0.052     -0.604      0.546      -0.133       0.071\n",
            "tipo_residencia[T.Com os pais]      -0.0116      0.058     -0.199      0.843      -0.126       0.103\n",
            "tipo_residencia[T.Comunitário]      -0.1108      0.103     -1.072      0.284      -0.313       0.092\n",
            "tipo_residencia[T.Estúdio]           0.0618      0.094      0.658      0.510      -0.122       0.246\n",
            "tipo_residencia[T.Governamental]    -0.0014      0.062     -0.023      0.981      -0.122       0.120\n",
            "qtd_filhos                          -0.2364      0.104     -2.263      0.024      -0.441      -0.032\n",
            "idade                                0.0052      0.001      6.798      0.000       0.004       0.007\n",
            "tempo_emprego                        0.0618      0.001     60.433      0.000       0.060       0.064\n",
            "qt_pessoas_residencia                0.2605      0.104      2.498      0.012       0.056       0.465\n",
            "==============================================================================\n",
            "Omnibus:                        0.717   Durbin-Watson:                   2.021\n",
            "Prob(Omnibus):                  0.699   Jarque-Bera (JB):                0.687\n",
            "Skew:                           0.009   Prob(JB):                        0.709\n",
            "Kurtosis:                       3.027   Cond. No.                     2.51e+03\n",
            "==============================================================================\n",
            "\n",
            "Notes:\n",
            "[1] Standard Errors assume that the covariance matrix of the errors is correctly specified.\n",
            "[2] The condition number is large, 2.51e+03. This might indicate that there are\n",
            "strong multicollinearity or other numerical problems.\n"
          ]
        }
      ]
    },
    {
      "cell_type": "code",
      "source": [
        "# Passo 2: Lista de variáveis a serem removidas\n",
        "variaveis_para_remover = [\n",
        "    'tipo_residencia[T.Governamental]',\n",
        "    'tipo_residencia[T.Com os pais]',\n",
        "    'educacao[T.Pós graduação]',\n",
        "    'tipo_residencia[T.Casa]',\n",
        "    'tipo_residencia[T.Estúdio]',\n",
        "    'educacao[T.Superior completo]',\n",
        "    'tipo_renda[T.Bolsista]',\n",
        "    'tipo_residencia[T.Comunitário]',\n",
        "    'estado_civil[T.União]'\n",
        "]\n",
        "# Passo 3: Remover as variáveis da matriz X\n",
        "X_novo = X.drop(columns=variaveis_para_remover, errors='ignore')\n",
        "\n",
        "# Passo 4: Ajustar o modelo com as variáveis restantes\n",
        "modelo_novo = sm.OLS(y, X_novo)\n",
        "resultado_novo = modelo_novo.fit()\n",
        "\n",
        "# Passo 5: Verificar o resumo do novo modelo\n",
        "print(resultado_novo.summary())"
      ],
      "metadata": {
        "colab": {
          "base_uri": "https://localhost:8080/"
        },
        "id": "COpn6_LkdieF",
        "outputId": "b7f82f59-1c35-4818-b54d-e3ef81156165"
      },
      "execution_count": 30,
      "outputs": [
        {
          "output_type": "stream",
          "name": "stdout",
          "text": [
            "                            OLS Regression Results                            \n",
            "==============================================================================\n",
            "Dep. Variable:          np.log(renda)   R-squared:                       0.348\n",
            "Model:                            OLS   Adj. R-squared:                  0.347\n",
            "Method:                 Least Squares   F-statistic:                     533.2\n",
            "Date:                Wed, 12 Feb 2025   Prob (F-statistic):               0.00\n",
            "Time:                        23:53:42   Log-Likelihood:                -16217.\n",
            "No. Observations:               15000   AIC:                         3.247e+04\n",
            "Df Residuals:                   14984   BIC:                         3.259e+04\n",
            "Df Model:                          15                                         \n",
            "Covariance Type:            nonrobust                                         \n",
            "===================================================================================================\n",
            "                                      coef    std err          t      P>|t|      [0.025      0.975]\n",
            "---------------------------------------------------------------------------------------------------\n",
            "Intercept                           6.7037      0.211     31.751      0.000       6.290       7.118\n",
            "sexo[T.M]                           0.7960      0.014     58.010      0.000       0.769       0.823\n",
            "posse_de_veiculo[T.True]            0.0365      0.013      2.807      0.005       0.011       0.062\n",
            "posse_de_imovel[T.True]             0.0875      0.013      6.929      0.000       0.063       0.112\n",
            "tipo_renda[T.Empresário]            0.1541      0.015     10.481      0.000       0.125       0.183\n",
            "tipo_renda[T.Pensionista]          -0.0875      0.021     -4.108      0.000      -0.129      -0.046\n",
            "tipo_renda[T.Servidor público]      0.0584      0.022      2.663      0.008       0.015       0.101\n",
            "educacao[T.Secundário]             -0.1182      0.012     -9.466      0.000      -0.143      -0.094\n",
            "educacao[T.Superior incompleto]    -0.1491      0.031     -4.739      0.000      -0.211      -0.087\n",
            "estado_civil[T.Separado]            0.2812      0.107      2.623      0.009       0.071       0.491\n",
            "estado_civil[T.Solteiro]            0.2361      0.105      2.246      0.025       0.030       0.442\n",
            "estado_civil[T.Viúvo]               0.2903      0.108      2.683      0.007       0.078       0.502\n",
            "qtd_filhos                         -0.2378      0.104     -2.277      0.023      -0.443      -0.033\n",
            "idade                               0.0052      0.001      6.925      0.000       0.004       0.007\n",
            "tempo_emprego                       0.0618      0.001     60.549      0.000       0.060       0.064\n",
            "qt_pessoas_residencia               0.2624      0.104      2.517      0.012       0.058       0.467\n",
            "==============================================================================\n",
            "Omnibus:                        0.690   Durbin-Watson:                   2.022\n",
            "Prob(Omnibus):                  0.708   Jarque-Bera (JB):                0.661\n",
            "Skew:                           0.009   Prob(JB):                        0.719\n",
            "Kurtosis:                       3.027   Cond. No.                     2.48e+03\n",
            "==============================================================================\n",
            "\n",
            "Notes:\n",
            "[1] Standard Errors assume that the covariance matrix of the errors is correctly specified.\n",
            "[2] The condition number is large, 2.48e+03. This might indicate that there are\n",
            "strong multicollinearity or other numerical problems.\n"
          ]
        }
      ]
    },
    {
      "cell_type": "markdown",
      "source": [
        "Apesar de Adj. Squared ter se mantido o mesmo, AIC e BIC diminuíram o que torna o modelo melhor."
      ],
      "metadata": {
        "id": "yILORRevlgS0"
      }
    }
  ],
  "metadata": {
    "kernelspec": {
      "display_name": "Python 3",
      "language": "python",
      "name": "python3"
    },
    "language_info": {
      "codemirror_mode": {
        "name": "ipython",
        "version": 3
      },
      "file_extension": ".py",
      "mimetype": "text/x-python",
      "name": "python",
      "nbconvert_exporter": "python",
      "pygments_lexer": "ipython3",
      "version": "3.8.5"
    },
    "colab": {
      "provenance": []
    }
  },
  "nbformat": 4,
  "nbformat_minor": 0
}
