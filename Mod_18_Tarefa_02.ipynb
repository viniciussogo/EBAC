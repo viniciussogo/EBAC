{
  "cells": [
    {
      "cell_type": "markdown",
      "metadata": {
        "id": "view-in-github",
        "colab_type": "text"
      },
      "source": [
        "<a href=\"https://colab.research.google.com/github/viniciussogo/EBAC/blob/main/Mod_18_Tarefa_02.ipynb\" target=\"_parent\"><img src=\"https://colab.research.google.com/assets/colab-badge.svg\" alt=\"Open In Colab\"/></a>"
      ]
    },
    {
      "cell_type": "markdown",
      "metadata": {
        "id": "wSxyy_TqFpa3"
      },
      "source": [
        "# Regressão Logística I\n",
        "## Tarefa II\n",
        "\n",
        "Vamos trabalhar com a mesma base do exercício anterior, mas vamos aprofundar um pouco mais a nossa regressão."
      ]
    },
    {
      "cell_type": "code",
      "execution_count": 15,
      "metadata": {
        "id": "2YTYcrr7FpbD"
      },
      "outputs": [],
      "source": [
        "import pandas as pd\n",
        "import seaborn as sns\n",
        "import matplotlib.pyplot as plt\n",
        "import numpy as np\n",
        "from sklearn.metrics import accuracy_score, roc_auc_score, roc_curve\n",
        "import statsmodels.formula.api as smf"
      ]
    },
    {
      "cell_type": "code",
      "execution_count": 2,
      "metadata": {
        "tags": [],
        "colab": {
          "base_uri": "https://localhost:8080/",
          "height": 206
        },
        "id": "nuGb_kHlFpbI",
        "outputId": "a22568e7-29c6-40cc-c382-d144fdda2489"
      },
      "outputs": [
        {
          "output_type": "execute_result",
          "data": {
            "text/plain": [
              "    age  sex   cp  trestbps   chol  fbs  restecg  thalach  exang  oldpeak  \\\n",
              "0  63.0  1.0  1.0     145.0  233.0  1.0      2.0    150.0    0.0      2.3   \n",
              "1  67.0  1.0  4.0     160.0  286.0  0.0      2.0    108.0    1.0      1.5   \n",
              "2  67.0  1.0  4.0     120.0  229.0  0.0      2.0    129.0    1.0      2.6   \n",
              "3  37.0  1.0  3.0     130.0  250.0  0.0      0.0    187.0    0.0      3.5   \n",
              "4  41.0  0.0  2.0     130.0  204.0  0.0      2.0    172.0    0.0      1.4   \n",
              "\n",
              "   slope   ca thal  num  flag_doente  \n",
              "0    3.0  0.0  6.0    0            0  \n",
              "1    2.0  3.0  3.0    2            1  \n",
              "2    2.0  2.0  7.0    1            1  \n",
              "3    3.0  0.0  3.0    0            0  \n",
              "4    1.0  0.0  3.0    0            0  "
            ],
            "text/html": [
              "\n",
              "  <div id=\"df-0fc40abe-cb45-407c-a67f-452eae269b68\" class=\"colab-df-container\">\n",
              "    <div>\n",
              "<style scoped>\n",
              "    .dataframe tbody tr th:only-of-type {\n",
              "        vertical-align: middle;\n",
              "    }\n",
              "\n",
              "    .dataframe tbody tr th {\n",
              "        vertical-align: top;\n",
              "    }\n",
              "\n",
              "    .dataframe thead th {\n",
              "        text-align: right;\n",
              "    }\n",
              "</style>\n",
              "<table border=\"1\" class=\"dataframe\">\n",
              "  <thead>\n",
              "    <tr style=\"text-align: right;\">\n",
              "      <th></th>\n",
              "      <th>age</th>\n",
              "      <th>sex</th>\n",
              "      <th>cp</th>\n",
              "      <th>trestbps</th>\n",
              "      <th>chol</th>\n",
              "      <th>fbs</th>\n",
              "      <th>restecg</th>\n",
              "      <th>thalach</th>\n",
              "      <th>exang</th>\n",
              "      <th>oldpeak</th>\n",
              "      <th>slope</th>\n",
              "      <th>ca</th>\n",
              "      <th>thal</th>\n",
              "      <th>num</th>\n",
              "      <th>flag_doente</th>\n",
              "    </tr>\n",
              "  </thead>\n",
              "  <tbody>\n",
              "    <tr>\n",
              "      <th>0</th>\n",
              "      <td>63.0</td>\n",
              "      <td>1.0</td>\n",
              "      <td>1.0</td>\n",
              "      <td>145.0</td>\n",
              "      <td>233.0</td>\n",
              "      <td>1.0</td>\n",
              "      <td>2.0</td>\n",
              "      <td>150.0</td>\n",
              "      <td>0.0</td>\n",
              "      <td>2.3</td>\n",
              "      <td>3.0</td>\n",
              "      <td>0.0</td>\n",
              "      <td>6.0</td>\n",
              "      <td>0</td>\n",
              "      <td>0</td>\n",
              "    </tr>\n",
              "    <tr>\n",
              "      <th>1</th>\n",
              "      <td>67.0</td>\n",
              "      <td>1.0</td>\n",
              "      <td>4.0</td>\n",
              "      <td>160.0</td>\n",
              "      <td>286.0</td>\n",
              "      <td>0.0</td>\n",
              "      <td>2.0</td>\n",
              "      <td>108.0</td>\n",
              "      <td>1.0</td>\n",
              "      <td>1.5</td>\n",
              "      <td>2.0</td>\n",
              "      <td>3.0</td>\n",
              "      <td>3.0</td>\n",
              "      <td>2</td>\n",
              "      <td>1</td>\n",
              "    </tr>\n",
              "    <tr>\n",
              "      <th>2</th>\n",
              "      <td>67.0</td>\n",
              "      <td>1.0</td>\n",
              "      <td>4.0</td>\n",
              "      <td>120.0</td>\n",
              "      <td>229.0</td>\n",
              "      <td>0.0</td>\n",
              "      <td>2.0</td>\n",
              "      <td>129.0</td>\n",
              "      <td>1.0</td>\n",
              "      <td>2.6</td>\n",
              "      <td>2.0</td>\n",
              "      <td>2.0</td>\n",
              "      <td>7.0</td>\n",
              "      <td>1</td>\n",
              "      <td>1</td>\n",
              "    </tr>\n",
              "    <tr>\n",
              "      <th>3</th>\n",
              "      <td>37.0</td>\n",
              "      <td>1.0</td>\n",
              "      <td>3.0</td>\n",
              "      <td>130.0</td>\n",
              "      <td>250.0</td>\n",
              "      <td>0.0</td>\n",
              "      <td>0.0</td>\n",
              "      <td>187.0</td>\n",
              "      <td>0.0</td>\n",
              "      <td>3.5</td>\n",
              "      <td>3.0</td>\n",
              "      <td>0.0</td>\n",
              "      <td>3.0</td>\n",
              "      <td>0</td>\n",
              "      <td>0</td>\n",
              "    </tr>\n",
              "    <tr>\n",
              "      <th>4</th>\n",
              "      <td>41.0</td>\n",
              "      <td>0.0</td>\n",
              "      <td>2.0</td>\n",
              "      <td>130.0</td>\n",
              "      <td>204.0</td>\n",
              "      <td>0.0</td>\n",
              "      <td>2.0</td>\n",
              "      <td>172.0</td>\n",
              "      <td>0.0</td>\n",
              "      <td>1.4</td>\n",
              "      <td>1.0</td>\n",
              "      <td>0.0</td>\n",
              "      <td>3.0</td>\n",
              "      <td>0</td>\n",
              "      <td>0</td>\n",
              "    </tr>\n",
              "  </tbody>\n",
              "</table>\n",
              "</div>\n",
              "    <div class=\"colab-df-buttons\">\n",
              "\n",
              "  <div class=\"colab-df-container\">\n",
              "    <button class=\"colab-df-convert\" onclick=\"convertToInteractive('df-0fc40abe-cb45-407c-a67f-452eae269b68')\"\n",
              "            title=\"Convert this dataframe to an interactive table.\"\n",
              "            style=\"display:none;\">\n",
              "\n",
              "  <svg xmlns=\"http://www.w3.org/2000/svg\" height=\"24px\" viewBox=\"0 -960 960 960\">\n",
              "    <path d=\"M120-120v-720h720v720H120Zm60-500h600v-160H180v160Zm220 220h160v-160H400v160Zm0 220h160v-160H400v160ZM180-400h160v-160H180v160Zm440 0h160v-160H620v160ZM180-180h160v-160H180v160Zm440 0h160v-160H620v160Z\"/>\n",
              "  </svg>\n",
              "    </button>\n",
              "\n",
              "  <style>\n",
              "    .colab-df-container {\n",
              "      display:flex;\n",
              "      gap: 12px;\n",
              "    }\n",
              "\n",
              "    .colab-df-convert {\n",
              "      background-color: #E8F0FE;\n",
              "      border: none;\n",
              "      border-radius: 50%;\n",
              "      cursor: pointer;\n",
              "      display: none;\n",
              "      fill: #1967D2;\n",
              "      height: 32px;\n",
              "      padding: 0 0 0 0;\n",
              "      width: 32px;\n",
              "    }\n",
              "\n",
              "    .colab-df-convert:hover {\n",
              "      background-color: #E2EBFA;\n",
              "      box-shadow: 0px 1px 2px rgba(60, 64, 67, 0.3), 0px 1px 3px 1px rgba(60, 64, 67, 0.15);\n",
              "      fill: #174EA6;\n",
              "    }\n",
              "\n",
              "    .colab-df-buttons div {\n",
              "      margin-bottom: 4px;\n",
              "    }\n",
              "\n",
              "    [theme=dark] .colab-df-convert {\n",
              "      background-color: #3B4455;\n",
              "      fill: #D2E3FC;\n",
              "    }\n",
              "\n",
              "    [theme=dark] .colab-df-convert:hover {\n",
              "      background-color: #434B5C;\n",
              "      box-shadow: 0px 1px 3px 1px rgba(0, 0, 0, 0.15);\n",
              "      filter: drop-shadow(0px 1px 2px rgba(0, 0, 0, 0.3));\n",
              "      fill: #FFFFFF;\n",
              "    }\n",
              "  </style>\n",
              "\n",
              "    <script>\n",
              "      const buttonEl =\n",
              "        document.querySelector('#df-0fc40abe-cb45-407c-a67f-452eae269b68 button.colab-df-convert');\n",
              "      buttonEl.style.display =\n",
              "        google.colab.kernel.accessAllowed ? 'block' : 'none';\n",
              "\n",
              "      async function convertToInteractive(key) {\n",
              "        const element = document.querySelector('#df-0fc40abe-cb45-407c-a67f-452eae269b68');\n",
              "        const dataTable =\n",
              "          await google.colab.kernel.invokeFunction('convertToInteractive',\n",
              "                                                    [key], {});\n",
              "        if (!dataTable) return;\n",
              "\n",
              "        const docLinkHtml = 'Like what you see? Visit the ' +\n",
              "          '<a target=\"_blank\" href=https://colab.research.google.com/notebooks/data_table.ipynb>data table notebook</a>'\n",
              "          + ' to learn more about interactive tables.';\n",
              "        element.innerHTML = '';\n",
              "        dataTable['output_type'] = 'display_data';\n",
              "        await google.colab.output.renderOutput(dataTable, element);\n",
              "        const docLink = document.createElement('div');\n",
              "        docLink.innerHTML = docLinkHtml;\n",
              "        element.appendChild(docLink);\n",
              "      }\n",
              "    </script>\n",
              "  </div>\n",
              "\n",
              "\n",
              "<div id=\"df-4414c2ff-1b18-4d3c-b24b-59bbfce3d47d\">\n",
              "  <button class=\"colab-df-quickchart\" onclick=\"quickchart('df-4414c2ff-1b18-4d3c-b24b-59bbfce3d47d')\"\n",
              "            title=\"Suggest charts\"\n",
              "            style=\"display:none;\">\n",
              "\n",
              "<svg xmlns=\"http://www.w3.org/2000/svg\" height=\"24px\"viewBox=\"0 0 24 24\"\n",
              "     width=\"24px\">\n",
              "    <g>\n",
              "        <path d=\"M19 3H5c-1.1 0-2 .9-2 2v14c0 1.1.9 2 2 2h14c1.1 0 2-.9 2-2V5c0-1.1-.9-2-2-2zM9 17H7v-7h2v7zm4 0h-2V7h2v10zm4 0h-2v-4h2v4z\"/>\n",
              "    </g>\n",
              "</svg>\n",
              "  </button>\n",
              "\n",
              "<style>\n",
              "  .colab-df-quickchart {\n",
              "      --bg-color: #E8F0FE;\n",
              "      --fill-color: #1967D2;\n",
              "      --hover-bg-color: #E2EBFA;\n",
              "      --hover-fill-color: #174EA6;\n",
              "      --disabled-fill-color: #AAA;\n",
              "      --disabled-bg-color: #DDD;\n",
              "  }\n",
              "\n",
              "  [theme=dark] .colab-df-quickchart {\n",
              "      --bg-color: #3B4455;\n",
              "      --fill-color: #D2E3FC;\n",
              "      --hover-bg-color: #434B5C;\n",
              "      --hover-fill-color: #FFFFFF;\n",
              "      --disabled-bg-color: #3B4455;\n",
              "      --disabled-fill-color: #666;\n",
              "  }\n",
              "\n",
              "  .colab-df-quickchart {\n",
              "    background-color: var(--bg-color);\n",
              "    border: none;\n",
              "    border-radius: 50%;\n",
              "    cursor: pointer;\n",
              "    display: none;\n",
              "    fill: var(--fill-color);\n",
              "    height: 32px;\n",
              "    padding: 0;\n",
              "    width: 32px;\n",
              "  }\n",
              "\n",
              "  .colab-df-quickchart:hover {\n",
              "    background-color: var(--hover-bg-color);\n",
              "    box-shadow: 0 1px 2px rgba(60, 64, 67, 0.3), 0 1px 3px 1px rgba(60, 64, 67, 0.15);\n",
              "    fill: var(--button-hover-fill-color);\n",
              "  }\n",
              "\n",
              "  .colab-df-quickchart-complete:disabled,\n",
              "  .colab-df-quickchart-complete:disabled:hover {\n",
              "    background-color: var(--disabled-bg-color);\n",
              "    fill: var(--disabled-fill-color);\n",
              "    box-shadow: none;\n",
              "  }\n",
              "\n",
              "  .colab-df-spinner {\n",
              "    border: 2px solid var(--fill-color);\n",
              "    border-color: transparent;\n",
              "    border-bottom-color: var(--fill-color);\n",
              "    animation:\n",
              "      spin 1s steps(1) infinite;\n",
              "  }\n",
              "\n",
              "  @keyframes spin {\n",
              "    0% {\n",
              "      border-color: transparent;\n",
              "      border-bottom-color: var(--fill-color);\n",
              "      border-left-color: var(--fill-color);\n",
              "    }\n",
              "    20% {\n",
              "      border-color: transparent;\n",
              "      border-left-color: var(--fill-color);\n",
              "      border-top-color: var(--fill-color);\n",
              "    }\n",
              "    30% {\n",
              "      border-color: transparent;\n",
              "      border-left-color: var(--fill-color);\n",
              "      border-top-color: var(--fill-color);\n",
              "      border-right-color: var(--fill-color);\n",
              "    }\n",
              "    40% {\n",
              "      border-color: transparent;\n",
              "      border-right-color: var(--fill-color);\n",
              "      border-top-color: var(--fill-color);\n",
              "    }\n",
              "    60% {\n",
              "      border-color: transparent;\n",
              "      border-right-color: var(--fill-color);\n",
              "    }\n",
              "    80% {\n",
              "      border-color: transparent;\n",
              "      border-right-color: var(--fill-color);\n",
              "      border-bottom-color: var(--fill-color);\n",
              "    }\n",
              "    90% {\n",
              "      border-color: transparent;\n",
              "      border-bottom-color: var(--fill-color);\n",
              "    }\n",
              "  }\n",
              "</style>\n",
              "\n",
              "  <script>\n",
              "    async function quickchart(key) {\n",
              "      const quickchartButtonEl =\n",
              "        document.querySelector('#' + key + ' button');\n",
              "      quickchartButtonEl.disabled = true;  // To prevent multiple clicks.\n",
              "      quickchartButtonEl.classList.add('colab-df-spinner');\n",
              "      try {\n",
              "        const charts = await google.colab.kernel.invokeFunction(\n",
              "            'suggestCharts', [key], {});\n",
              "      } catch (error) {\n",
              "        console.error('Error during call to suggestCharts:', error);\n",
              "      }\n",
              "      quickchartButtonEl.classList.remove('colab-df-spinner');\n",
              "      quickchartButtonEl.classList.add('colab-df-quickchart-complete');\n",
              "    }\n",
              "    (() => {\n",
              "      let quickchartButtonEl =\n",
              "        document.querySelector('#df-4414c2ff-1b18-4d3c-b24b-59bbfce3d47d button');\n",
              "      quickchartButtonEl.style.display =\n",
              "        google.colab.kernel.accessAllowed ? 'block' : 'none';\n",
              "    })();\n",
              "  </script>\n",
              "</div>\n",
              "\n",
              "    </div>\n",
              "  </div>\n"
            ],
            "application/vnd.google.colaboratory.intrinsic+json": {
              "type": "dataframe",
              "variable_name": "df",
              "summary": "{\n  \"name\": \"df\",\n  \"rows\": 303,\n  \"fields\": [\n    {\n      \"column\": \"age\",\n      \"properties\": {\n        \"dtype\": \"number\",\n        \"std\": 9.038662442446743,\n        \"min\": 29.0,\n        \"max\": 77.0,\n        \"num_unique_values\": 41,\n        \"samples\": [\n          61.0,\n          64.0,\n          44.0\n        ],\n        \"semantic_type\": \"\",\n        \"description\": \"\"\n      }\n    },\n    {\n      \"column\": \"sex\",\n      \"properties\": {\n        \"dtype\": \"number\",\n        \"std\": 0.4672988277701313,\n        \"min\": 0.0,\n        \"max\": 1.0,\n        \"num_unique_values\": 2,\n        \"samples\": [\n          0.0,\n          1.0\n        ],\n        \"semantic_type\": \"\",\n        \"description\": \"\"\n      }\n    },\n    {\n      \"column\": \"cp\",\n      \"properties\": {\n        \"dtype\": \"number\",\n        \"std\": 0.9601256119600123,\n        \"min\": 1.0,\n        \"max\": 4.0,\n        \"num_unique_values\": 4,\n        \"samples\": [\n          4.0,\n          2.0\n        ],\n        \"semantic_type\": \"\",\n        \"description\": \"\"\n      }\n    },\n    {\n      \"column\": \"trestbps\",\n      \"properties\": {\n        \"dtype\": \"number\",\n        \"std\": 17.599747729587687,\n        \"min\": 94.0,\n        \"max\": 200.0,\n        \"num_unique_values\": 50,\n        \"samples\": [\n          124.0,\n          192.0\n        ],\n        \"semantic_type\": \"\",\n        \"description\": \"\"\n      }\n    },\n    {\n      \"column\": \"chol\",\n      \"properties\": {\n        \"dtype\": \"number\",\n        \"std\": 51.776917542637015,\n        \"min\": 126.0,\n        \"max\": 564.0,\n        \"num_unique_values\": 152,\n        \"samples\": [\n          321.0,\n          187.0\n        ],\n        \"semantic_type\": \"\",\n        \"description\": \"\"\n      }\n    },\n    {\n      \"column\": \"fbs\",\n      \"properties\": {\n        \"dtype\": \"number\",\n        \"std\": 0.35619787492797594,\n        \"min\": 0.0,\n        \"max\": 1.0,\n        \"num_unique_values\": 2,\n        \"samples\": [\n          0.0,\n          1.0\n        ],\n        \"semantic_type\": \"\",\n        \"description\": \"\"\n      }\n    },\n    {\n      \"column\": \"restecg\",\n      \"properties\": {\n        \"dtype\": \"number\",\n        \"std\": 0.9949712915251797,\n        \"min\": 0.0,\n        \"max\": 2.0,\n        \"num_unique_values\": 3,\n        \"samples\": [\n          2.0,\n          0.0\n        ],\n        \"semantic_type\": \"\",\n        \"description\": \"\"\n      }\n    },\n    {\n      \"column\": \"thalach\",\n      \"properties\": {\n        \"dtype\": \"number\",\n        \"std\": 22.875003276980376,\n        \"min\": 71.0,\n        \"max\": 202.0,\n        \"num_unique_values\": 91,\n        \"samples\": [\n          170.0,\n          114.0\n        ],\n        \"semantic_type\": \"\",\n        \"description\": \"\"\n      }\n    },\n    {\n      \"column\": \"exang\",\n      \"properties\": {\n        \"dtype\": \"number\",\n        \"std\": 0.46979446452231716,\n        \"min\": 0.0,\n        \"max\": 1.0,\n        \"num_unique_values\": 2,\n        \"samples\": [\n          1.0,\n          0.0\n        ],\n        \"semantic_type\": \"\",\n        \"description\": \"\"\n      }\n    },\n    {\n      \"column\": \"oldpeak\",\n      \"properties\": {\n        \"dtype\": \"number\",\n        \"std\": 1.161075022068634,\n        \"min\": 0.0,\n        \"max\": 6.2,\n        \"num_unique_values\": 40,\n        \"samples\": [\n          2.4,\n          0.2\n        ],\n        \"semantic_type\": \"\",\n        \"description\": \"\"\n      }\n    },\n    {\n      \"column\": \"slope\",\n      \"properties\": {\n        \"dtype\": \"number\",\n        \"std\": 0.6162261453459627,\n        \"min\": 1.0,\n        \"max\": 3.0,\n        \"num_unique_values\": 3,\n        \"samples\": [\n          3.0,\n          2.0\n        ],\n        \"semantic_type\": \"\",\n        \"description\": \"\"\n      }\n    },\n    {\n      \"column\": \"ca\",\n      \"properties\": {\n        \"dtype\": \"category\",\n        \"num_unique_values\": 5,\n        \"samples\": [\n          \"3.0\",\n          \"?\"\n        ],\n        \"semantic_type\": \"\",\n        \"description\": \"\"\n      }\n    },\n    {\n      \"column\": \"thal\",\n      \"properties\": {\n        \"dtype\": \"category\",\n        \"num_unique_values\": 4,\n        \"samples\": [\n          \"3.0\",\n          \"?\"\n        ],\n        \"semantic_type\": \"\",\n        \"description\": \"\"\n      }\n    },\n    {\n      \"column\": \"num\",\n      \"properties\": {\n        \"dtype\": \"number\",\n        \"std\": 1,\n        \"min\": 0,\n        \"max\": 4,\n        \"num_unique_values\": 5,\n        \"samples\": [\n          2,\n          4\n        ],\n        \"semantic_type\": \"\",\n        \"description\": \"\"\n      }\n    },\n    {\n      \"column\": \"flag_doente\",\n      \"properties\": {\n        \"dtype\": \"number\",\n        \"std\": 0,\n        \"min\": 0,\n        \"max\": 1,\n        \"num_unique_values\": 2,\n        \"samples\": [\n          1,\n          0\n        ],\n        \"semantic_type\": \"\",\n        \"description\": \"\"\n      }\n    }\n  ]\n}"
            }
          },
          "metadata": {},
          "execution_count": 2
        }
      ],
      "source": [
        "url = 'https://archive.ics.uci.edu/ml/machine-learning-databases/heart-disease/processed.cleveland.data'\n",
        "\n",
        "df = pd.read_csv(url,\n",
        "                 names=['age', 'sex', 'cp', 'trestbps', 'chol', 'fbs', 'restecg',\n",
        "                        'thalach', 'exang', 'oldpeak', 'slope', 'ca', 'thal', 'num'])\n",
        "df['flag_doente'] = (df['num']!=0).astype('int64')\n",
        "df.head()"
      ]
    },
    {
      "cell_type": "markdown",
      "metadata": {
        "id": "pWHR6uAkFpbP"
      },
      "source": [
        "A descrição das variáveis está recortada abaixo:\n",
        "- age: idade do paciente em anos\n",
        "- sex: sexo (1 = male; 0 = female)  \n",
        "- cp: tipo de dor no peito\n",
        "  - 1: angina típica\n",
        "  - 2: angina atípica\n",
        "  - 3: dor não-angina\n",
        "  - 4: assintomático\n",
        "- trestbps: pressão sanguínea em repouso (em mm Hg na admissão ao hospital\n",
        "- chol: colesterol sérico em mg/dl\n",
        "- fbs: (açúcar no sangue em jejum > 120 mg/dl) (1 = True; 0 = False)\n",
        "- restecg: resultados eletrocardiográficos em repouso\n",
        "  - 0: normal\n",
        "  - 1: tendo anormalidade da onda ST-T (Inversões de onda T e / ou ST com elevação ou depressão de > 0.05 mV)\n",
        "  - 2: mostrando hipertrofia ventricular esquerda provável ou definitiva pelos critérios de Estes\n",
        "- thalach: frequência cardíaca máxima alcançada\n",
        "- exang: angina induzida por exercício(1 = sim; 0 = não)\n",
        "- oldpeak = Depressão de ST induzida por exercício em relação ao repouso\n",
        "- slope: Depressão de ST induzida por exercício em relação ao repouso\n",
        "  - 1: inclinação ascendente\n",
        "  - 2: estável\n",
        "  - 3: inclinação descendente\n",
        "- ca: número de vasos principais (0-3) coloridos por fluorosopia\n",
        "- thal: 3 = normal; 6 = defeito corrigido; 7 = defeito reversível\n",
        "- num: diagnóstico de doença cardíaga (status de doença angiográfica)"
      ]
    },
    {
      "cell_type": "code",
      "execution_count": 5,
      "metadata": {
        "colab": {
          "base_uri": "https://localhost:8080/"
        },
        "id": "rwVVscjcFpbR",
        "outputId": "f96e7dcc-9bce-4664-e152-f7dbc5b5bf65"
      },
      "outputs": [
        {
          "output_type": "stream",
          "name": "stdout",
          "text": [
            "<class 'pandas.core.frame.DataFrame'>\n",
            "RangeIndex: 303 entries, 0 to 302\n",
            "Data columns (total 15 columns):\n",
            " #   Column       Non-Null Count  Dtype  \n",
            "---  ------       --------------  -----  \n",
            " 0   age          303 non-null    float64\n",
            " 1   sex          303 non-null    float64\n",
            " 2   cp           303 non-null    float64\n",
            " 3   trestbps     303 non-null    float64\n",
            " 4   chol         303 non-null    float64\n",
            " 5   fbs          303 non-null    float64\n",
            " 6   restecg      303 non-null    float64\n",
            " 7   thalach      303 non-null    float64\n",
            " 8   exang        303 non-null    float64\n",
            " 9   oldpeak      303 non-null    float64\n",
            " 10  slope        303 non-null    float64\n",
            " 11  ca           303 non-null    object \n",
            " 12  thal         303 non-null    object \n",
            " 13  num          303 non-null    int64  \n",
            " 14  flag_doente  303 non-null    int64  \n",
            "dtypes: float64(11), int64(2), object(2)\n",
            "memory usage: 35.6+ KB\n"
          ]
        }
      ],
      "source": [
        "df.info()"
      ]
    },
    {
      "cell_type": "markdown",
      "metadata": {
        "id": "kgkJHZtZFpbT"
      },
      "source": [
        "1. Considere o script que monta a análise bivariada que você fez na tarefa anterior. Transforme esse script em uma função, que deve:\n",
        "- Ter como parâmetros de entrada:\n",
        "    - Um *dataframe* contendo os dados a serem avaliados\n",
        "    - Um *string* contendo o nome da variável resposta\n",
        "    - Um *string* contendo o nome da variável explicativa\n",
        "- E deve retornar um *dataframe* com os dados da bivariada.\n",
        "**Monte** a mesma bivariada pelo menos três variáveis qualitativas do *data-frame*. Qual delas parece discriminar mais o risco?"
      ]
    },
    {
      "cell_type": "code",
      "execution_count": 7,
      "metadata": {
        "colab": {
          "base_uri": "https://localhost:8080/"
        },
        "id": "BGgkZ6b3Fpba",
        "outputId": "b38398af-74a7-438e-b078-52ab2b98d6b0"
      },
      "outputs": [
        {
          "output_type": "stream",
          "name": "stdout",
          "text": [
            "\n",
            "Análise bivariada para sex:\n",
            "\n",
            "        Perc_0     Perc_1  Total\n",
            "sex                             \n",
            "0.0  74.226804  25.773196     97\n",
            "1.0  44.660194  55.339806    206\n",
            "\n",
            "Análise bivariada para cp:\n",
            "\n",
            "        Perc_0     Perc_1  Total\n",
            "cp                              \n",
            "1.0  69.565217  30.434783     23\n",
            "2.0  82.000000  18.000000     50\n",
            "3.0  79.069767  20.930233     86\n",
            "4.0  27.083333  72.916667    144\n",
            "\n",
            "Análise bivariada para thal:\n",
            "\n",
            "         Perc_0     Perc_1  Total\n",
            "thal                             \n",
            "3.0   77.710843  22.289157    166\n",
            "6.0   33.333333  66.666667     18\n",
            "7.0   23.931624  76.068376    117\n",
            "?     50.000000  50.000000      2\n"
          ]
        }
      ],
      "source": [
        "def analise_bivariada(df, resposta, explicativa):\n",
        "\n",
        "    tab = pd.crosstab(df[explicativa], df[resposta], normalize='index') * 100\n",
        "    tab.columns = [f'Perc_{col}' for col in tab.columns]\n",
        "    tab['Total'] = df[explicativa].value_counts()\n",
        "    return tab\n",
        "\n",
        "# Aplicação da função para as variáveis qualitativas\n",
        "variaveis_qualitativas = ['sex', 'cp', 'thal']\n",
        "resultados = {}\n",
        "\n",
        "for var in variaveis_qualitativas:\n",
        "    resultados[var] = analise_bivariada(df, 'flag_doente', var)\n",
        "\n",
        "# Exibir os resultados\n",
        "for var, tabela in resultados.items():\n",
        "    print(f\"\\nAnálise bivariada para {var}:\\n\")\n",
        "    print(tabela)\n"
      ]
    },
    {
      "cell_type": "markdown",
      "metadata": {
        "id": "9DEO6cwEFpbc"
      },
      "source": [
        "2. Monte uma função semelhante para categorizar variáveis quantitativas contínuas (com muitas categorias) como ```age```.  \n",
        "    Além dos mesmos parâmetros da função anterior, defina mais um parâmetro como número de categorias que você deseja quebrar. Defina um valor '*default*' de 5 grupos para este parâmetro.  "
      ]
    },
    {
      "cell_type": "code",
      "execution_count": 11,
      "metadata": {
        "colab": {
          "base_uri": "https://localhost:8080/"
        },
        "id": "4vXUviQeFpbe",
        "outputId": "69f6931d-431a-4e39-db4a-0b22e94440a1"
      },
      "outputs": [
        {
          "output_type": "stream",
          "name": "stdout",
          "text": [
            "\n",
            "Análise bivariada para sex:\n",
            "\n",
            "        Perc_0     Perc_1  Total\n",
            "sex                             \n",
            "0.0  74.226804  25.773196     97\n",
            "1.0  44.660194  55.339806    206\n",
            "\n",
            "Análise bivariada para cp:\n",
            "\n",
            "        Perc_0     Perc_1  Total\n",
            "cp                              \n",
            "1.0  69.565217  30.434783     23\n",
            "2.0  82.000000  18.000000     50\n",
            "3.0  79.069767  20.930233     86\n",
            "4.0  27.083333  72.916667    144\n",
            "\n",
            "Análise bivariada para thal:\n",
            "\n",
            "         Perc_0     Perc_1  Total\n",
            "thal                             \n",
            "3.0   77.710843  22.289157    166\n",
            "6.0   33.333333  66.666667     18\n",
            "7.0   23.931624  76.068376    117\n",
            "?     50.000000  50.000000      2\n"
          ]
        }
      ],
      "source": [
        "def analise_bivariada(df, resposta, explicativa):\n",
        "\n",
        "    tab = pd.crosstab(df[explicativa], df[resposta], normalize='index') * 100\n",
        "    tab.columns = [f'Perc_{col}' for col in tab.columns]\n",
        "    tab['Total'] = df[explicativa].value_counts()\n",
        "    return tab\n",
        "\n",
        "def analise_bivariada_continua(df, resposta, explicativa, num_categorias=5):\n",
        "\n",
        "    df[\"cat_\" + explicativa] = pd.qcut(df[explicativa], num_categorias, duplicates='drop')\n",
        "    return analise_bivariada(df, resposta, \"cat_\" + explicativa)\n",
        "\n",
        "# Aplicação da função para as variáveis qualitativas\n",
        "variaveis_qualitativas = ['sex', 'cp', 'thal']\n",
        "resultados = {}\n",
        "\n",
        "for var in variaveis_qualitativas:\n",
        "    resultados[var] = analise_bivariada(df, 'flag_doente', var)\n",
        "\n",
        "# Exibir os resultados\n",
        "for var, tabela in resultados.items():\n",
        "    print(f\"\\nAnálise bivariada para {var}:\\n\")\n",
        "    print(tabela)\n"
      ]
    },
    {
      "cell_type": "markdown",
      "metadata": {
        "id": "93VhgS2DFpbe"
      },
      "source": [
        "3. Construa um modelo de regressão logística com as variáveis qualitativas: ```sex + cp +  trestbps``` e com a variável quantitativa ```age```.\n",
        "\n",
        "**Interprete os parâmetros.**"
      ]
    },
    {
      "cell_type": "code",
      "execution_count": 12,
      "metadata": {
        "colab": {
          "base_uri": "https://localhost:8080/"
        },
        "id": "V9_29mGKFpbf",
        "outputId": "91722eba-85ca-4898-f8f9-7002f13dcb66"
      },
      "outputs": [
        {
          "output_type": "stream",
          "name": "stdout",
          "text": [
            "Optimization terminated successfully.\n",
            "         Current function value: 0.510076\n",
            "         Iterations 6\n",
            "                           Logit Regression Results                           \n",
            "==============================================================================\n",
            "Dep. Variable:            flag_doente   No. Observations:                  303\n",
            "Model:                          Logit   Df Residuals:                      298\n",
            "Method:                           MLE   Df Model:                            4\n",
            "Date:                Fri, 28 Feb 2025   Pseudo R-squ.:                  0.2605\n",
            "Time:                        19:57:20   Log-Likelihood:                -154.55\n",
            "converged:                       True   LL-Null:                       -208.99\n",
            "Covariance Type:            nonrobust   LLR p-value:                 1.264e-22\n",
            "==============================================================================\n",
            "                 coef    std err          z      P>|z|      [0.025      0.975]\n",
            "------------------------------------------------------------------------------\n",
            "Intercept    -11.1167      1.608     -6.915      0.000     -14.267      -7.966\n",
            "sex            1.8021      0.331      5.444      0.000       1.153       2.451\n",
            "cp             1.1403      0.169      6.739      0.000       0.809       1.472\n",
            "trestbps       0.0214      0.008      2.600      0.009       0.005       0.037\n",
            "age            0.0582      0.017      3.348      0.001       0.024       0.092\n",
            "==============================================================================\n"
          ]
        }
      ],
      "source": [
        "# Construção do modelo de regressão logística\n",
        "formula = \"flag_doente ~ sex + cp + trestbps + age\"\n",
        "modelo = smf.logit(formula, data=df).fit()\n",
        "print(modelo.summary())"
      ]
    },
    {
      "cell_type": "markdown",
      "metadata": {
        "id": "m7e5_Oz9Fpbk"
      },
      "source": [
        "4. Avalie o seu modelo quanto a **calibragem**:\n",
        "- Calcule a probabilidade de evento predita segundo o seu modelo\n",
        "- Categorize essa probabilidade em G=5 grupos\n",
        "- Calcule a probabilidade de evento predita média por grupo\n",
        "- Calcule a taxa de eventos (média da variável indicadora de eventos) por grupo\n",
        "- Compare graficamente o valor eperado versus observado para a taxa de maus por grupo"
      ]
    },
    {
      "cell_type": "code",
      "execution_count": 13,
      "metadata": {
        "colab": {
          "base_uri": "https://localhost:8080/",
          "height": 487
        },
        "id": "YdJneJ4GFpbm",
        "outputId": "0727ae3a-dcb2-45eb-9014-29738fb8ef4a"
      },
      "outputs": [
        {
          "output_type": "display_data",
          "data": {
            "text/plain": [
              "<Figure size 800x500 with 1 Axes>"
            ],
            "image/png": "[encoded data removed]"
          },
          "metadata": {}
        }
      ],
      "source": [
        "# Avaliação da calibragem do modelo\n",
        "# Cálculo da probabilidade prevista\n",
        "df['prob_predita'] = modelo.predict(df)\n",
        "\n",
        "# Categorizar probabilidade prevista em G=5 grupos\n",
        "df['grupo_prob'] = pd.qcut(df['prob_predita'], 5, labels=False)\n",
        "\n",
        "# Cálculo da probabilidade média e taxa de eventos por grupo\n",
        "calibragem = df.groupby('grupo_prob').agg(\n",
        "    prob_media=('prob_predita', 'mean'),\n",
        "    taxa_evento=('flag_doente', 'mean')\n",
        ").reset_index()\n",
        "\n",
        "# Comparação gráfica\n",
        "plt.figure(figsize=(8, 5))\n",
        "plt.plot(calibragem['grupo_prob'], calibragem['prob_media'], marker='o', linestyle='-', label='Probabilidade Média Predita')\n",
        "plt.plot(calibragem['grupo_prob'], calibragem['taxa_evento'], marker='s', linestyle='--', label='Taxa de Eventos Observada')\n",
        "plt.xlabel('Grupo de Probabilidade')\n",
        "plt.ylabel('Probabilidade/Taxa')\n",
        "plt.legend()\n",
        "plt.title('Calibração do Modelo: Probabilidade Predita vs Observada')\n",
        "plt.grid()\n",
        "plt.show()"
      ]
    },
    {
      "cell_type": "markdown",
      "metadata": {
        "id": "j6ou94qpFpbn"
      },
      "source": [
        "5. Avalie o seu modelo quanto a discriminação calculando acurácia, GINI e KS."
      ]
    },
    {
      "cell_type": "code",
      "execution_count": 16,
      "metadata": {
        "colab": {
          "base_uri": "https://localhost:8080/"
        },
        "id": "seCIQTXWFpbn",
        "outputId": "85e13118-66c9-48f8-bfc4-0223d70238e9"
      },
      "outputs": [
        {
          "output_type": "stream",
          "name": "stdout",
          "text": [
            "Acurácia do modelo: 0.7789\n",
            "GINI: 0.6622\n",
            "KS: 0.5840\n"
          ]
        }
      ],
      "source": [
        "# Avaliação da discriminação do modelo\n",
        "# Cálculo da acurácia\n",
        "pred_class = (df['prob_predita'] >= 0.5).astype(int)\n",
        "accuracy = accuracy_score(df['flag_doente'], pred_class)\n",
        "print(f\"Acurácia do modelo: {accuracy:.4f}\")\n",
        "\n",
        "# Cálculo do GINI\n",
        "auc = roc_auc_score(df['flag_doente'], df['prob_predita'])\n",
        "gini = 2 * auc - 1\n",
        "print(f\"GINI: {gini:.4f}\")\n",
        "\n",
        "# Cálculo do KS\n",
        "fpr, tpr, thresholds = roc_curve(df['flag_doente'], df['prob_predita'])\n",
        "ks = max(tpr - fpr)\n",
        "print(f\"KS: {ks:.4f}\")"
      ]
    },
    {
      "cell_type": "markdown",
      "metadata": {
        "id": "8dkawhJ8Fpbt"
      },
      "source": [
        "6. tente melhorar o modelo obtido, por exemplo inserindo ou removendo variáveis.  \n",
        "    Avalie as características do seu modelo (calibragem e acurácia)."
      ]
    },
    {
      "cell_type": "code",
      "execution_count": 17,
      "metadata": {
        "colab": {
          "base_uri": "https://localhost:8080/",
          "height": 1000
        },
        "id": "tGJURO7ZFpbu",
        "outputId": "d6a20074-f5d0-4ceb-ab88-87f2e51c1154"
      },
      "outputs": [
        {
          "output_type": "stream",
          "name": "stdout",
          "text": [
            "\n",
            "Análise bivariada para sex:\n",
            "\n",
            "        Perc_0     Perc_1  Total\n",
            "sex                             \n",
            "0.0  74.226804  25.773196     97\n",
            "1.0  44.660194  55.339806    206\n",
            "\n",
            "Análise bivariada para cp:\n",
            "\n",
            "        Perc_0     Perc_1  Total\n",
            "cp                              \n",
            "1.0  69.565217  30.434783     23\n",
            "2.0  82.000000  18.000000     50\n",
            "3.0  79.069767  20.930233     86\n",
            "4.0  27.083333  72.916667    144\n",
            "\n",
            "Análise bivariada para thal:\n",
            "\n",
            "         Perc_0     Perc_1  Total\n",
            "thal                             \n",
            "3.0   77.710843  22.289157    166\n",
            "6.0   33.333333  66.666667     18\n",
            "7.0   23.931624  76.068376    117\n",
            "?     50.000000  50.000000      2\n",
            "Optimization terminated successfully.\n",
            "         Current function value: 0.443041\n",
            "         Iterations 7\n",
            "                           Logit Regression Results                           \n",
            "==============================================================================\n",
            "Dep. Variable:            flag_doente   No. Observations:                  303\n",
            "Model:                          Logit   Df Residuals:                      296\n",
            "Method:                           MLE   Df Model:                            6\n",
            "Date:                Fri, 28 Feb 2025   Pseudo R-squ.:                  0.3577\n",
            "Time:                        20:02:07   Log-Likelihood:                -134.24\n",
            "converged:                       True   LL-Null:                       -208.99\n",
            "Covariance Type:            nonrobust   LLR p-value:                 9.874e-30\n",
            "==============================================================================\n",
            "                 coef    std err          z      P>|z|      [0.025      0.975]\n",
            "------------------------------------------------------------------------------\n",
            "Intercept     -4.0315      2.097     -1.923      0.055      -8.141       0.078\n",
            "sex            1.8855      0.375      5.029      0.000       1.151       2.620\n",
            "cp             0.8827      0.172      5.147      0.000       0.547       1.219\n",
            "thalach       -0.0282      0.008     -3.366      0.001      -0.045      -0.012\n",
            "oldpeak        0.6646      0.153      4.352      0.000       0.365       0.964\n",
            "chol           0.0065      0.003      2.111      0.035       0.000       0.013\n",
            "age            0.0302      0.019      1.562      0.118      -0.008       0.068\n",
            "==============================================================================\n"
          ]
        },
        {
          "output_type": "display_data",
          "data": {
            "text/plain": [
              "<Figure size 800x500 with 1 Axes>"
            ],
            "image/png": "[encoded data removed]"
          },
          "metadata": {}
        },
        {
          "output_type": "stream",
          "name": "stdout",
          "text": [
            "Acurácia do modelo: 0.7855\n",
            "GINI: 0.7449\n",
            "KS: 0.6006\n"
          ]
        }
      ],
      "source": [
        "def analise_bivariada(df, resposta, explicativa):\n",
        "\n",
        "    tab = pd.crosstab(df[explicativa], df[resposta], normalize='index') * 100\n",
        "    tab.columns = [f'Perc_{col}' for col in tab.columns]\n",
        "    tab['Total'] = df[explicativa].value_counts()\n",
        "    return tab\n",
        "\n",
        "def analise_bivariada_continua(df, resposta, explicativa, num_categorias=5):\n",
        "\n",
        "    df[\"cat_\" + explicativa] = pd.qcut(df[explicativa], num_categorias, duplicates='drop')\n",
        "    return analise_bivariada(df, resposta, \"cat_\" + explicativa)\n",
        "\n",
        "# Aplicação da função para as variáveis qualitativas\n",
        "variaveis_qualitativas = ['sex', 'cp', 'thal']\n",
        "resultados = {}\n",
        "\n",
        "for var in variaveis_qualitativas:\n",
        "    resultados[var] = analise_bivariada(df, 'flag_doente', var)\n",
        "\n",
        "# Exibir os resultados\n",
        "for var, tabela in resultados.items():\n",
        "    print(f\"\\nAnálise bivariada para {var}:\\n\")\n",
        "    print(tabela)\n",
        "\n",
        "# Construção do modelo de regressão logística otimizado\n",
        "formula = \"flag_doente ~ sex + cp + thalach + oldpeak + chol + age\"\n",
        "modelo = smf.logit(formula, data=df).fit()\n",
        "print(modelo.summary())\n",
        "\n",
        "# Avaliação da calibragem do modelo\n",
        "# Cálculo da probabilidade prevista\n",
        "df['prob_predita'] = modelo.predict(df)\n",
        "\n",
        "# Categorizar probabilidade prevista em G=5 grupos\n",
        "df['grupo_prob'] = pd.qcut(df['prob_predita'], 5, labels=False)\n",
        "\n",
        "# Cálculo da probabilidade média e taxa de eventos por grupo\n",
        "calibragem = df.groupby('grupo_prob').agg(\n",
        "    prob_media=('prob_predita', 'mean'),\n",
        "    taxa_evento=('flag_doente', 'mean')\n",
        ").reset_index()\n",
        "\n",
        "# Comparação gráfica\n",
        "plt.figure(figsize=(8, 5))\n",
        "plt.plot(calibragem['grupo_prob'], calibragem['prob_media'], marker='o', linestyle='-', label='Probabilidade Média Predita')\n",
        "plt.plot(calibragem['grupo_prob'], calibragem['taxa_evento'], marker='s', linestyle='--', label='Taxa de Eventos Observada')\n",
        "plt.xlabel('Grupo de Probabilidade')\n",
        "plt.ylabel('Probabilidade/Taxa')\n",
        "plt.legend()\n",
        "plt.title('Calibração do Modelo: Probabilidade Predita vs Observada')\n",
        "plt.grid()\n",
        "plt.show()\n",
        "\n",
        "# Avaliação da discriminação do modelo\n",
        "# Cálculo da acurácia\n",
        "pred_class = (df['prob_predita'] >= 0.5).astype(int)\n",
        "accuracy = accuracy_score(df['flag_doente'], pred_class)\n",
        "print(f\"Acurácia do modelo: {accuracy:.4f}\")\n",
        "\n",
        "# Cálculo do GINI\n",
        "auc = roc_auc_score(df['flag_doente'], df['prob_predita'])\n",
        "gini = 2 * auc - 1\n",
        "print(f\"GINI: {gini:.4f}\")\n",
        "\n",
        "# Cálculo do KS\n",
        "fpr, tpr, thresholds = roc_curve(df['flag_doente'], df['prob_predita'])\n",
        "ks = max(tpr - fpr)\n",
        "print(f\"KS: {ks:.4f}\")\n"
      ]
    },
    {
      "cell_type": "markdown",
      "source": [
        "O modelo se mostrou mais efetivo removendo trestbps e adicionando thalach, oldpeak e chol, aumentando sua acurácia e pseudo-R squared."
      ],
      "metadata": {
        "id": "1qDPM1XQKKBo"
      }
    },
    {
      "cell_type": "code",
      "source": [],
      "metadata": {
        "id": "zuOYi5GjKZu7"
      },
      "execution_count": null,
      "outputs": []
    }
  ],
  "metadata": {
    "kernelspec": {
      "display_name": "Python 3",
      "language": "python",
      "name": "python3"
    },
    "language_info": {
      "codemirror_mode": {
        "name": "ipython",
        "version": 3
      },
      "file_extension": ".py",
      "mimetype": "text/x-python",
      "name": "python",
      "nbconvert_exporter": "python",
      "pygments_lexer": "ipython3",
      "version": "3.8.5"
    },
    "colab": {
      "provenance": [],
      "include_colab_link": true
    }
  },
  "nbformat": 4,
  "nbformat_minor": 0
}