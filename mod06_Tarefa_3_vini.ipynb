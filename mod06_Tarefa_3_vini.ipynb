{
  "cells": [
    {
      "cell_type": "markdown",
      "metadata": {
        "id": "CVZIRho9HjbF"
      },
      "source": [
        "# Módulo 6 tarefa 3\n",
        "\n",
        "#### 1) A base 'sinasc_RO_2019.csv' contém dados do sistema de nascidos vivos do DataSUS, cujo dicionário de dados está no arquivo 'Estrutura_SINASC_para_CD.pdf'. Carregue esse arquivo."
      ]
    },
    {
      "cell_type": "code",
      "execution_count": 10,
      "metadata": {
        "id": "3Zl6iSEQHjbG"
      },
      "outputs": [],
      "source": [
        "#Importar programas\n",
        "import pandas as pd\n",
        "import numpy as np\n",
        "import seaborn as sns\n",
        "import matplotlib.pyplot as plt\n",
        "%matplotlib inline"
      ]
    },
    {
      "cell_type": "code",
      "source": [
        "#Carregar arquivo que será trabalhado\n",
        "df = pd.read_csv(\"/content/SINASC_RO_2019.csv\", sep=',')"
      ],
      "metadata": {
        "id": "PxlCLONiH88g"
      },
      "execution_count": 3,
      "outputs": []
    },
    {
      "cell_type": "code",
      "source": [
        "#Verificar se foi carregado da forma correta\n",
        "df.head()"
      ],
      "metadata": {
        "colab": {
          "base_uri": "https://localhost:8080/",
          "height": 447
        },
        "id": "LlAknWHYIQ5-",
        "outputId": "5bffcf18-55a7-4324-f1ed-552eb6f31ec2"
      },
      "execution_count": 5,
      "outputs": [
        {
          "output_type": "execute_result",
          "data": {
            "text/plain": [
              "   ORIGEM   CODESTAB  CODMUNNASC  LOCNASC  IDADEMAE  ESTCIVMAE  \\\n",
              "0       1  2679477.0      110001        1        19        5.0   \n",
              "1       1  2679477.0      110001        1        29        2.0   \n",
              "2       1  2679477.0      110001        1        37        9.0   \n",
              "3       1  2516500.0      110001        1        30        5.0   \n",
              "4       1  2516500.0      110001        1        30        2.0   \n",
              "\n",
              "            ESCMAE  CODOCUPMAE  QTDFILVIVO  QTDFILMORT  ...  KOTELCHUCK  \\\n",
              "0      8 a 11 anos         NaN         0.0         0.0  ...           5   \n",
              "1      8 a 11 anos    999992.0         1.0         0.0  ...           5   \n",
              "2      8 a 11 anos    513205.0         2.0         0.0  ...           5   \n",
              "3  12 anos ou mais    231205.0         0.0         0.0  ...           4   \n",
              "4      8 a 11 anos    999992.0         1.0         0.0  ...           5   \n",
              "\n",
              "  CONTADOR munResStatus munResTipo               munResNome  munResUf  \\\n",
              "0        1        ATIVO      MUNIC    Alta Floresta D'Oeste  Rondônia   \n",
              "1        2        ATIVO      MUNIC    Alta Floresta D'Oeste  Rondônia   \n",
              "2        3        ATIVO      MUNIC    Alta Floresta D'Oeste  Rondônia   \n",
              "3        4        ATIVO      MUNIC  Alto Alegre dos Parecis  Rondônia   \n",
              "4        5        ATIVO      MUNIC    Alta Floresta D'Oeste  Rondônia   \n",
              "\n",
              "   munResLat munResLon  munResAlt  munResArea  \n",
              "0  -11.93554 -61.99982      338.0    7067.025  \n",
              "1  -11.93554 -61.99982      338.0    7067.025  \n",
              "2  -11.93554 -61.99982      338.0    7067.025  \n",
              "3  -12.13178 -61.85308      397.0    3958.273  \n",
              "4  -11.93554 -61.99982      338.0    7067.025  \n",
              "\n",
              "[5 rows x 69 columns]"
            ],
            "text/html": [
              "\n",
              "  <div id=\"df-3d45c318-8d4a-449c-83c6-72c88d2ea3ab\" class=\"colab-df-container\">\n",
              "    <div>\n",
              "<style scoped>\n",
              "    .dataframe tbody tr th:only-of-type {\n",
              "        vertical-align: middle;\n",
              "    }\n",
              "\n",
              "    .dataframe tbody tr th {\n",
              "        vertical-align: top;\n",
              "    }\n",
              "\n",
              "    .dataframe thead th {\n",
              "        text-align: right;\n",
              "    }\n",
              "</style>\n",
              "<table border=\"1\" class=\"dataframe\">\n",
              "  <thead>\n",
              "    <tr style=\"text-align: right;\">\n",
              "      <th></th>\n",
              "      <th>ORIGEM</th>\n",
              "      <th>CODESTAB</th>\n",
              "      <th>CODMUNNASC</th>\n",
              "      <th>LOCNASC</th>\n",
              "      <th>IDADEMAE</th>\n",
              "      <th>ESTCIVMAE</th>\n",
              "      <th>ESCMAE</th>\n",
              "      <th>CODOCUPMAE</th>\n",
              "      <th>QTDFILVIVO</th>\n",
              "      <th>QTDFILMORT</th>\n",
              "      <th>...</th>\n",
              "      <th>KOTELCHUCK</th>\n",
              "      <th>CONTADOR</th>\n",
              "      <th>munResStatus</th>\n",
              "      <th>munResTipo</th>\n",
              "      <th>munResNome</th>\n",
              "      <th>munResUf</th>\n",
              "      <th>munResLat</th>\n",
              "      <th>munResLon</th>\n",
              "      <th>munResAlt</th>\n",
              "      <th>munResArea</th>\n",
              "    </tr>\n",
              "  </thead>\n",
              "  <tbody>\n",
              "    <tr>\n",
              "      <th>0</th>\n",
              "      <td>1</td>\n",
              "      <td>2679477.0</td>\n",
              "      <td>110001</td>\n",
              "      <td>1</td>\n",
              "      <td>19</td>\n",
              "      <td>5.0</td>\n",
              "      <td>8 a 11 anos</td>\n",
              "      <td>NaN</td>\n",
              "      <td>0.0</td>\n",
              "      <td>0.0</td>\n",
              "      <td>...</td>\n",
              "      <td>5</td>\n",
              "      <td>1</td>\n",
              "      <td>ATIVO</td>\n",
              "      <td>MUNIC</td>\n",
              "      <td>Alta Floresta D'Oeste</td>\n",
              "      <td>Rondônia</td>\n",
              "      <td>-11.93554</td>\n",
              "      <td>-61.99982</td>\n",
              "      <td>338.0</td>\n",
              "      <td>7067.025</td>\n",
              "    </tr>\n",
              "    <tr>\n",
              "      <th>1</th>\n",
              "      <td>1</td>\n",
              "      <td>2679477.0</td>\n",
              "      <td>110001</td>\n",
              "      <td>1</td>\n",
              "      <td>29</td>\n",
              "      <td>2.0</td>\n",
              "      <td>8 a 11 anos</td>\n",
              "      <td>999992.0</td>\n",
              "      <td>1.0</td>\n",
              "      <td>0.0</td>\n",
              "      <td>...</td>\n",
              "      <td>5</td>\n",
              "      <td>2</td>\n",
              "      <td>ATIVO</td>\n",
              "      <td>MUNIC</td>\n",
              "      <td>Alta Floresta D'Oeste</td>\n",
              "      <td>Rondônia</td>\n",
              "      <td>-11.93554</td>\n",
              "      <td>-61.99982</td>\n",
              "      <td>338.0</td>\n",
              "      <td>7067.025</td>\n",
              "    </tr>\n",
              "    <tr>\n",
              "      <th>2</th>\n",
              "      <td>1</td>\n",
              "      <td>2679477.0</td>\n",
              "      <td>110001</td>\n",
              "      <td>1</td>\n",
              "      <td>37</td>\n",
              "      <td>9.0</td>\n",
              "      <td>8 a 11 anos</td>\n",
              "      <td>513205.0</td>\n",
              "      <td>2.0</td>\n",
              "      <td>0.0</td>\n",
              "      <td>...</td>\n",
              "      <td>5</td>\n",
              "      <td>3</td>\n",
              "      <td>ATIVO</td>\n",
              "      <td>MUNIC</td>\n",
              "      <td>Alta Floresta D'Oeste</td>\n",
              "      <td>Rondônia</td>\n",
              "      <td>-11.93554</td>\n",
              "      <td>-61.99982</td>\n",
              "      <td>338.0</td>\n",
              "      <td>7067.025</td>\n",
              "    </tr>\n",
              "    <tr>\n",
              "      <th>3</th>\n",
              "      <td>1</td>\n",
              "      <td>2516500.0</td>\n",
              "      <td>110001</td>\n",
              "      <td>1</td>\n",
              "      <td>30</td>\n",
              "      <td>5.0</td>\n",
              "      <td>12 anos ou mais</td>\n",
              "      <td>231205.0</td>\n",
              "      <td>0.0</td>\n",
              "      <td>0.0</td>\n",
              "      <td>...</td>\n",
              "      <td>4</td>\n",
              "      <td>4</td>\n",
              "      <td>ATIVO</td>\n",
              "      <td>MUNIC</td>\n",
              "      <td>Alto Alegre dos Parecis</td>\n",
              "      <td>Rondônia</td>\n",
              "      <td>-12.13178</td>\n",
              "      <td>-61.85308</td>\n",
              "      <td>397.0</td>\n",
              "      <td>3958.273</td>\n",
              "    </tr>\n",
              "    <tr>\n",
              "      <th>4</th>\n",
              "      <td>1</td>\n",
              "      <td>2516500.0</td>\n",
              "      <td>110001</td>\n",
              "      <td>1</td>\n",
              "      <td>30</td>\n",
              "      <td>2.0</td>\n",
              "      <td>8 a 11 anos</td>\n",
              "      <td>999992.0</td>\n",
              "      <td>1.0</td>\n",
              "      <td>0.0</td>\n",
              "      <td>...</td>\n",
              "      <td>5</td>\n",
              "      <td>5</td>\n",
              "      <td>ATIVO</td>\n",
              "      <td>MUNIC</td>\n",
              "      <td>Alta Floresta D'Oeste</td>\n",
              "      <td>Rondônia</td>\n",
              "      <td>-11.93554</td>\n",
              "      <td>-61.99982</td>\n",
              "      <td>338.0</td>\n",
              "      <td>7067.025</td>\n",
              "    </tr>\n",
              "  </tbody>\n",
              "</table>\n",
              "<p>5 rows × 69 columns</p>\n",
              "</div>\n",
              "    <div class=\"colab-df-buttons\">\n",
              "\n",
              "  <div class=\"colab-df-container\">\n",
              "    <button class=\"colab-df-convert\" onclick=\"convertToInteractive('df-3d45c318-8d4a-449c-83c6-72c88d2ea3ab')\"\n",
              "            title=\"Convert this dataframe to an interactive table.\"\n",
              "            style=\"display:none;\">\n",
              "\n",
              "  <svg xmlns=\"http://www.w3.org/2000/svg\" height=\"24px\" viewBox=\"0 -960 960 960\">\n",
              "    <path d=\"M120-120v-720h720v720H120Zm60-500h600v-160H180v160Zm220 220h160v-160H400v160Zm0 220h160v-160H400v160ZM180-400h160v-160H180v160Zm440 0h160v-160H620v160ZM180-180h160v-160H180v160Zm440 0h160v-160H620v160Z\"/>\n",
              "  </svg>\n",
              "    </button>\n",
              "\n",
              "  <style>\n",
              "    .colab-df-container {\n",
              "      display:flex;\n",
              "      gap: 12px;\n",
              "    }\n",
              "\n",
              "    .colab-df-convert {\n",
              "      background-color: #E8F0FE;\n",
              "      border: none;\n",
              "      border-radius: 50%;\n",
              "      cursor: pointer;\n",
              "      display: none;\n",
              "      fill: #1967D2;\n",
              "      height: 32px;\n",
              "      padding: 0 0 0 0;\n",
              "      width: 32px;\n",
              "    }\n",
              "\n",
              "    .colab-df-convert:hover {\n",
              "      background-color: #E2EBFA;\n",
              "      box-shadow: 0px 1px 2px rgba(60, 64, 67, 0.3), 0px 1px 3px 1px rgba(60, 64, 67, 0.15);\n",
              "      fill: #174EA6;\n",
              "    }\n",
              "\n",
              "    .colab-df-buttons div {\n",
              "      margin-bottom: 4px;\n",
              "    }\n",
              "\n",
              "    [theme=dark] .colab-df-convert {\n",
              "      background-color: #3B4455;\n",
              "      fill: #D2E3FC;\n",
              "    }\n",
              "\n",
              "    [theme=dark] .colab-df-convert:hover {\n",
              "      background-color: #434B5C;\n",
              "      box-shadow: 0px 1px 3px 1px rgba(0, 0, 0, 0.15);\n",
              "      filter: drop-shadow(0px 1px 2px rgba(0, 0, 0, 0.3));\n",
              "      fill: #FFFFFF;\n",
              "    }\n",
              "  </style>\n",
              "\n",
              "    <script>\n",
              "      const buttonEl =\n",
              "        document.querySelector('#df-3d45c318-8d4a-449c-83c6-72c88d2ea3ab button.colab-df-convert');\n",
              "      buttonEl.style.display =\n",
              "        google.colab.kernel.accessAllowed ? 'block' : 'none';\n",
              "\n",
              "      async function convertToInteractive(key) {\n",
              "        const element = document.querySelector('#df-3d45c318-8d4a-449c-83c6-72c88d2ea3ab');\n",
              "        const dataTable =\n",
              "          await google.colab.kernel.invokeFunction('convertToInteractive',\n",
              "                                                    [key], {});\n",
              "        if (!dataTable) return;\n",
              "\n",
              "        const docLinkHtml = 'Like what you see? Visit the ' +\n",
              "          '<a target=\"_blank\" href=https://colab.research.google.com/notebooks/data_table.ipynb>data table notebook</a>'\n",
              "          + ' to learn more about interactive tables.';\n",
              "        element.innerHTML = '';\n",
              "        dataTable['output_type'] = 'display_data';\n",
              "        await google.colab.output.renderOutput(dataTable, element);\n",
              "        const docLink = document.createElement('div');\n",
              "        docLink.innerHTML = docLinkHtml;\n",
              "        element.appendChild(docLink);\n",
              "      }\n",
              "    </script>\n",
              "  </div>\n",
              "\n",
              "\n",
              "<div id=\"df-5df070a5-5b71-4688-83d4-af4001cbfe6b\">\n",
              "  <button class=\"colab-df-quickchart\" onclick=\"quickchart('df-5df070a5-5b71-4688-83d4-af4001cbfe6b')\"\n",
              "            title=\"Suggest charts\"\n",
              "            style=\"display:none;\">\n",
              "\n",
              "<svg xmlns=\"http://www.w3.org/2000/svg\" height=\"24px\"viewBox=\"0 0 24 24\"\n",
              "     width=\"24px\">\n",
              "    <g>\n",
              "        <path d=\"M19 3H5c-1.1 0-2 .9-2 2v14c0 1.1.9 2 2 2h14c1.1 0 2-.9 2-2V5c0-1.1-.9-2-2-2zM9 17H7v-7h2v7zm4 0h-2V7h2v10zm4 0h-2v-4h2v4z\"/>\n",
              "    </g>\n",
              "</svg>\n",
              "  </button>\n",
              "\n",
              "<style>\n",
              "  .colab-df-quickchart {\n",
              "      --bg-color: #E8F0FE;\n",
              "      --fill-color: #1967D2;\n",
              "      --hover-bg-color: #E2EBFA;\n",
              "      --hover-fill-color: #174EA6;\n",
              "      --disabled-fill-color: #AAA;\n",
              "      --disabled-bg-color: #DDD;\n",
              "  }\n",
              "\n",
              "  [theme=dark] .colab-df-quickchart {\n",
              "      --bg-color: #3B4455;\n",
              "      --fill-color: #D2E3FC;\n",
              "      --hover-bg-color: #434B5C;\n",
              "      --hover-fill-color: #FFFFFF;\n",
              "      --disabled-bg-color: #3B4455;\n",
              "      --disabled-fill-color: #666;\n",
              "  }\n",
              "\n",
              "  .colab-df-quickchart {\n",
              "    background-color: var(--bg-color);\n",
              "    border: none;\n",
              "    border-radius: 50%;\n",
              "    cursor: pointer;\n",
              "    display: none;\n",
              "    fill: var(--fill-color);\n",
              "    height: 32px;\n",
              "    padding: 0;\n",
              "    width: 32px;\n",
              "  }\n",
              "\n",
              "  .colab-df-quickchart:hover {\n",
              "    background-color: var(--hover-bg-color);\n",
              "    box-shadow: 0 1px 2px rgba(60, 64, 67, 0.3), 0 1px 3px 1px rgba(60, 64, 67, 0.15);\n",
              "    fill: var(--button-hover-fill-color);\n",
              "  }\n",
              "\n",
              "  .colab-df-quickchart-complete:disabled,\n",
              "  .colab-df-quickchart-complete:disabled:hover {\n",
              "    background-color: var(--disabled-bg-color);\n",
              "    fill: var(--disabled-fill-color);\n",
              "    box-shadow: none;\n",
              "  }\n",
              "\n",
              "  .colab-df-spinner {\n",
              "    border: 2px solid var(--fill-color);\n",
              "    border-color: transparent;\n",
              "    border-bottom-color: var(--fill-color);\n",
              "    animation:\n",
              "      spin 1s steps(1) infinite;\n",
              "  }\n",
              "\n",
              "  @keyframes spin {\n",
              "    0% {\n",
              "      border-color: transparent;\n",
              "      border-bottom-color: var(--fill-color);\n",
              "      border-left-color: var(--fill-color);\n",
              "    }\n",
              "    20% {\n",
              "      border-color: transparent;\n",
              "      border-left-color: var(--fill-color);\n",
              "      border-top-color: var(--fill-color);\n",
              "    }\n",
              "    30% {\n",
              "      border-color: transparent;\n",
              "      border-left-color: var(--fill-color);\n",
              "      border-top-color: var(--fill-color);\n",
              "      border-right-color: var(--fill-color);\n",
              "    }\n",
              "    40% {\n",
              "      border-color: transparent;\n",
              "      border-right-color: var(--fill-color);\n",
              "      border-top-color: var(--fill-color);\n",
              "    }\n",
              "    60% {\n",
              "      border-color: transparent;\n",
              "      border-right-color: var(--fill-color);\n",
              "    }\n",
              "    80% {\n",
              "      border-color: transparent;\n",
              "      border-right-color: var(--fill-color);\n",
              "      border-bottom-color: var(--fill-color);\n",
              "    }\n",
              "    90% {\n",
              "      border-color: transparent;\n",
              "      border-bottom-color: var(--fill-color);\n",
              "    }\n",
              "  }\n",
              "</style>\n",
              "\n",
              "  <script>\n",
              "    async function quickchart(key) {\n",
              "      const quickchartButtonEl =\n",
              "        document.querySelector('#' + key + ' button');\n",
              "      quickchartButtonEl.disabled = true;  // To prevent multiple clicks.\n",
              "      quickchartButtonEl.classList.add('colab-df-spinner');\n",
              "      try {\n",
              "        const charts = await google.colab.kernel.invokeFunction(\n",
              "            'suggestCharts', [key], {});\n",
              "      } catch (error) {\n",
              "        console.error('Error during call to suggestCharts:', error);\n",
              "      }\n",
              "      quickchartButtonEl.classList.remove('colab-df-spinner');\n",
              "      quickchartButtonEl.classList.add('colab-df-quickchart-complete');\n",
              "    }\n",
              "    (() => {\n",
              "      let quickchartButtonEl =\n",
              "        document.querySelector('#df-5df070a5-5b71-4688-83d4-af4001cbfe6b button');\n",
              "      quickchartButtonEl.style.display =\n",
              "        google.colab.kernel.accessAllowed ? 'block' : 'none';\n",
              "    })();\n",
              "  </script>\n",
              "</div>\n",
              "\n",
              "    </div>\n",
              "  </div>\n"
            ],
            "application/vnd.google.colaboratory.intrinsic+json": {
              "type": "dataframe",
              "variable_name": "df"
            }
          },
          "metadata": {},
          "execution_count": 5
        }
      ]
    },
    {
      "cell_type": "markdown",
      "metadata": {
        "id": "Lz9hRNmVHjbG"
      },
      "source": [
        "#### 2) Categorize a variável APGAR5 conforme as seguintes quebras:\n",
        "\n",
        "- 0 a 3: 'asfixia grave'\n",
        "- 4 a 5: 'asfixia moderada'\n",
        "- 6 a 7: 'asfixia leve'\n",
        "- 8 a 10: 'normal'"
      ]
    },
    {
      "cell_type": "code",
      "execution_count": 8,
      "metadata": {
        "colab": {
          "base_uri": "https://localhost:8080/"
        },
        "id": "mxKi34tNHjbH",
        "outputId": "72b3f936-584f-4878-ff31-1c57d7874821"
      },
      "outputs": [
        {
          "output_type": "stream",
          "name": "stdout",
          "text": [
            "       APGAR5 CAT_APGAR5\n",
            "0        10.0     NORMAL\n",
            "1         9.0     NORMAL\n",
            "2        10.0     NORMAL\n",
            "3        10.0     NORMAL\n",
            "4        10.0     NORMAL\n",
            "...       ...        ...\n",
            "27023     9.0     NORMAL\n",
            "27024     9.0     NORMAL\n",
            "27025    10.0     NORMAL\n",
            "27026     9.0     NORMAL\n",
            "27027     8.0     NORMAL\n",
            "\n",
            "[27028 rows x 2 columns]\n"
          ]
        }
      ],
      "source": [
        "#Utilizando .loc para adicionar as informações na nova coluna \"CAT_APGAR5\"\n",
        "df.loc[df[\"APGAR5\"] <= 3, \"CAT_APGAR5\"] = \"ASFIXIA_SEVERA\"\n",
        "df.loc[(df[\"APGAR5\"] >= 4) & (df[\"APGAR5\"] <=5), \"CAT_APGAR5\"] = \"ASFIXIA_MODERADA\"\n",
        "df.loc[(df[\"APGAR5\"] >= 6) & (df[\"APGAR5\"] <=7), \"CAT_APGAR5\"] = \"ASFIXIA_LEVE\"\n",
        "df.loc[df[\"APGAR5\"] >= 8 ,\"CAT_APGAR5\"] = \"NORMAL\"\n",
        "\n",
        "print(df[[\"APGAR5\", \"CAT_APGAR5\"]])"
      ]
    },
    {
      "cell_type": "markdown",
      "metadata": {
        "id": "oajy0P5AHjbH"
      },
      "source": [
        "#### 3) Monte um gráfico comparando a distribuição de APGAR5 por sexo para cada grupo de tempo de gestação (GESTACAO)."
      ]
    },
    {
      "cell_type": "code",
      "execution_count": 12,
      "metadata": {
        "colab": {
          "base_uri": "https://localhost:8080/",
          "height": 466
        },
        "id": "XQZP0qkrHjbH",
        "outputId": "3d93c757-3799-4185-eec2-d969dc9c6e4c"
      },
      "outputs": [
        {
          "output_type": "execute_result",
          "data": {
            "text/plain": [
              "<Axes: xlabel='GESTACAO', ylabel='APGAR5'>"
            ]
          },
          "metadata": {},
          "execution_count": 12
        },
        {
          "output_type": "display_data",
          "data": {
            "text/plain": [
              "<Figure size 640x480 with 1 Axes>"
            ],
            "image/png": "[encoded data removed]"
          },
          "metadata": {}
        }
      ],
      "source": [
        "sns.boxplot(data=df, x='GESTACAO', y='APGAR5', hue='SEXO')"
      ]
    },
    {
      "cell_type": "markdown",
      "metadata": {
        "id": "Sj6RWo_QHjbH"
      },
      "source": [
        "####  4) Monte uma tabela cruzada com APGAR5 nas colunas e GESTACAO nas linhas"
      ]
    },
    {
      "cell_type": "code",
      "execution_count": 14,
      "metadata": {
        "colab": {
          "base_uri": "https://localhost:8080/"
        },
        "id": "8YYYWWPxHjbH",
        "outputId": "68b96591-1bb4-4a3a-ed19-b005c25cb4d0"
      },
      "outputs": [
        {
          "output_type": "stream",
          "name": "stdout",
          "text": [
            "APGAR5               0.0   1.0   2.0   3.0   4.0   5.0   6.0   7.0   8.0   \\\n",
            "GESTACAO                                                                    \n",
            "22 a 27 semanas         7     0     8     6     1     0     2    10    24   \n",
            "28 a 31 semanas         0     0     2     1     5     7     7    11    61   \n",
            "32 a 36 semanas         2     2     2     2     8    11    17    56   362   \n",
            "37 a 41 semanas         5    20     3     5     7    21    45   151  1417   \n",
            "42 semanas e mais       1     0     0     0     0     1     1     5    44   \n",
            "Menos de 22 semanas     1     0     1     0     0     0     0     1     0   \n",
            "\n",
            "APGAR5                9.0   10.0  \n",
            "GESTACAO                          \n",
            "22 a 27 semanas         19     8  \n",
            "28 a 31 semanas         55    13  \n",
            "32 a 36 semanas       1307   465  \n",
            "37 a 41 semanas      13565  7284  \n",
            "42 semanas e mais      423   223  \n",
            "Menos de 22 semanas      3     1  \n"
          ]
        }
      ],
      "source": [
        "tabela_cruzada = pd.crosstab(df['GESTACAO'], df['APGAR5'])\n",
        "print(tabela_cruzada)"
      ]
    },
    {
      "cell_type": "markdown",
      "metadata": {
        "id": "r7Y6ghLzHjbH"
      },
      "source": [
        "####  5) Da tabela cruzada do intem anterior, calcule os percentuais de linha. Ou seja, a distribuição da variável APGAR5 para cada classe de GESTACAO dado."
      ]
    },
    {
      "cell_type": "code",
      "execution_count": 15,
      "metadata": {
        "colab": {
          "base_uri": "https://localhost:8080/"
        },
        "id": "ErBWY21SHjbH",
        "outputId": "a4725e43-b8ae-42c7-e736-0fe2e532b59c"
      },
      "outputs": [
        {
          "output_type": "stream",
          "name": "stdout",
          "text": [
            "APGAR5                    0.0       1.0        2.0       3.0       4.0   \\\n",
            "GESTACAO                                                                  \n",
            "22 a 27 semanas       8.235294  0.000000   9.411765  7.058824  1.176471   \n",
            "28 a 31 semanas       0.000000  0.000000   1.234568  0.617284  3.086420   \n",
            "32 a 36 semanas       0.089526  0.089526   0.089526  0.089526  0.358102   \n",
            "37 a 41 semanas       0.022200  0.088798   0.013320  0.022200  0.031079   \n",
            "42 semanas e mais     0.143266  0.000000   0.000000  0.000000  0.000000   \n",
            "Menos de 22 semanas  14.285714  0.000000  14.285714  0.000000  0.000000   \n",
            "\n",
            "APGAR5                   5.0       6.0        7.0        8.0        9.0   \\\n",
            "GESTACAO                                                                   \n",
            "22 a 27 semanas      0.000000  2.352941  11.764706  28.235294  22.352941   \n",
            "28 a 31 semanas      4.320988  4.320988   6.790123  37.654321  33.950617   \n",
            "32 a 36 semanas      0.492390  0.760967   2.506714  16.204118  58.504924   \n",
            "37 a 41 semanas      0.093238  0.199796   0.670426   6.291347  60.227323   \n",
            "42 semanas e mais    0.143266  0.143266   0.716332   6.303725  60.601719   \n",
            "Menos de 22 semanas  0.000000  0.000000  14.285714   0.000000  42.857143   \n",
            "\n",
            "APGAR5                    10.0  \n",
            "GESTACAO                        \n",
            "22 a 27 semanas       9.411765  \n",
            "28 a 31 semanas       8.024691  \n",
            "32 a 36 semanas      20.814682  \n",
            "37 a 41 semanas      32.340274  \n",
            "42 semanas e mais    31.948424  \n",
            "Menos de 22 semanas  14.285714  \n"
          ]
        }
      ],
      "source": [
        "tabela_percentual = tabela_cruzada.div(tabela_cruzada.sum(axis=1), axis=0) * 100\n",
        "print(tabela_percentual)"
      ]
    },
    {
      "cell_type": "markdown",
      "metadata": {
        "id": "wM7cB0j6HjbH"
      },
      "source": [
        "####  6) Os médicos costumam classificar parto prematuro quando a gestação tem menos que 37 semanas. Faça um gráfico de barras da tabela cruzada acima e conclua se você acha que este conjunto de dados corrobora ou não com a afirmação dos médicos."
      ]
    },
    {
      "cell_type": "code",
      "execution_count": 16,
      "metadata": {
        "colab": {
          "base_uri": "https://localhost:8080/",
          "height": 700
        },
        "id": "LiGzg9txHjbI",
        "outputId": "9d80620e-40d9-47bc-c0e7-b04c5b4d3c52"
      },
      "outputs": [
        {
          "output_type": "execute_result",
          "data": {
            "text/plain": [
              "<Axes: xlabel='GESTACAO'>"
            ]
          },
          "metadata": {},
          "execution_count": 16
        },
        {
          "output_type": "display_data",
          "data": {
            "text/plain": [
              "<Figure size 1000x600 with 1 Axes>"
            ],
            "image/png": "[encoded data removed]"
          },
          "metadata": {}
        }
      ],
      "source": [
        "tabela_percentual.plot(kind='bar', stacked=True, colormap=\"viridis\", figsize=(10, 6))\n",
        "\n",
        "#resposta: conforme o bebê nasce com menos semanas, maiores as taxas de asfixias mais altas, corroborando com a hipótese dos médicos."
      ]
    },
    {
      "cell_type": "markdown",
      "metadata": {
        "id": "6Vp5SCGwHjbI"
      },
      "source": [
        "#### 7) Veja se há relação entre APGAR5 e o peso do bebê. Isso pode ser feito de diversas formas. Fique à vontade para escolher a melhor maneira na sua opinião, ou até testar mais de um dos gráficos que vimos. Fique à vontade também para consultar a documentação e utilizar algum outro recurso se achar conveniente."
      ]
    },
    {
      "cell_type": "code",
      "execution_count": 18,
      "metadata": {
        "colab": {
          "base_uri": "https://localhost:8080/",
          "height": 559
        },
        "id": "hKyVAsknHjbI",
        "outputId": "0f227a6a-781b-42ea-b045-65687584945e"
      },
      "outputs": [
        {
          "output_type": "execute_result",
          "data": {
            "text/plain": [
              "<Axes: xlabel='PESO', ylabel='APGAR5'>"
            ]
          },
          "metadata": {},
          "execution_count": 18
        },
        {
          "output_type": "display_data",
          "data": {
            "text/plain": [
              "<Figure size 800x600 with 1 Axes>"
            ],
            "image/png": "[encoded data removed]"
          },
          "metadata": {}
        }
      ],
      "source": [
        "plt.figure(figsize=(8, 6))\n",
        "sns.scatterplot(x='PESO', y='APGAR5', data=df)\n",
        "\n",
        "#resposta: existe uma boa relação entre o peso da criança e o seu score no APGAR5, indicando que bebês mais pesados tendem a ter menos problemas com asfixia."
      ]
    },
    {
      "cell_type": "code",
      "source": [],
      "metadata": {
        "id": "fhprTCLNRX1v"
      },
      "execution_count": null,
      "outputs": []
    }
  ],
  "metadata": {
    "kernelspec": {
      "display_name": "Python 3",
      "language": "python",
      "name": "python3"
    },
    "language_info": {
      "codemirror_mode": {
        "name": "ipython",
        "version": 3
      },
      "file_extension": ".py",
      "mimetype": "text/x-python",
      "name": "python",
      "nbconvert_exporter": "python",
      "pygments_lexer": "ipython3",
      "version": "3.8.5"
    },
    "colab": {
      "provenance": []
    }
  },
  "nbformat": 4,
  "nbformat_minor": 0
}