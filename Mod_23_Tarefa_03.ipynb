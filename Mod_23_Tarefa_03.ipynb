{
 "cells": [
  {
   "cell_type": "markdown",
   "id": "1fec5fe9-2838-4722-bfe0-86925d1eb577",
   "metadata": {},
   "source": [
    "# <center> Hiperparâmetros Random Forest </center>\n",
    "\n",
    "**Número de árvores**(n_estimators):  Quantas árvores serão criadas na floresta.   \n",
    "**Profundidade máxima**(max_depth):  Quão fundo cada árvore pode ir (quantas divisões no máximo).    \n",
    "**Mínimo de amostras por folha**(min_samples_leaf):  Mínimo de amostras em uma folha final (nó terminal).    \n",
    "**Número de variáveis consideradas em cada split**(max_features):  Quantas variáveis serão consideradas em cada divisão de nó.    "
   ]
  },
  {
   "cell_type": "code",
   "execution_count": null,
   "id": "c56abaad-f82f-4321-9b1a-bd1ede9e117e",
   "metadata": {},
   "outputs": [],
   "source": []
  }
 ],
 "metadata": {
  "kernelspec": {
   "display_name": "Python 3 (ipykernel)",
   "language": "python",
   "name": "python3"
  },
  "language_info": {
   "codemirror_mode": {
    "name": "ipython",
    "version": 3
   },
   "file_extension": ".py",
   "mimetype": "text/x-python",
   "name": "python",
   "nbconvert_exporter": "python",
   "pygments_lexer": "ipython3",
   "version": "3.12.7"
  }
 },
 "nbformat": 4,
 "nbformat_minor": 5
}
